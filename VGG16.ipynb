{
  "nbformat": 4,
  "nbformat_minor": 0,
  "metadata": {
    "colab": {
      "name": "VGG16.ipynb",
      "provenance": [],
      "collapsed_sections": [],
      "include_colab_link": true
    },
    "kernelspec": {
      "name": "python3",
      "display_name": "Python 3"
    },
    "accelerator": "GPU"
  },
  "cells": [
    {
      "cell_type": "markdown",
      "metadata": {
        "id": "view-in-github",
        "colab_type": "text"
      },
      "source": [
        "<a href=\"https://colab.research.google.com/github/cometku/SEESMosquitoMappers/blob/master/VGG16.ipynb\" target=\"_parent\"><img src=\"https://colab.research.google.com/assets/colab-badge.svg\" alt=\"Open In Colab\"/></a>"
      ]
    },
    {
      "cell_type": "code",
      "metadata": {
        "id": "21VJr4OG4nDR",
        "colab_type": "code",
        "colab": {}
      },
      "source": [
        "import warnings\n",
        "warnings.filterwarnings('ignore')\n",
        "import os\n",
        "import shutil\n",
        "import itertools\n",
        "import random\n",
        "import pandas as pd\n",
        "import numpy as np\n",
        "import matplotlib.pyplot as plt\n",
        "\n",
        "from tensorflow.keras import backend as K\n",
        "from tensorflow.keras import applications\n",
        "from tensorflow.keras.preprocessing.image import ImageDataGenerator\n",
        "from tensorflow.keras.optimizers import Adam\n",
        "from tensorflow.keras.models import Sequential, save_model, load_model\n",
        "\n",
        "from tensorflow.keras.callbacks import ModelCheckpoint, ReduceLROnPlateau, EarlyStopping\n",
        "\n",
        "from tensorflow.keras.layers import BatchNormalization, Dense, Flatten\n",
        "from sklearn.metrics import confusion_matrix\n",
        "\n",
        "%matplotlib inline"
      ],
      "execution_count": null,
      "outputs": []
    },
    {
      "cell_type": "code",
      "metadata": {
        "id": "Pz6GKaM94uBh",
        "colab_type": "code",
        "colab": {
          "base_uri": "https://localhost:8080/",
          "height": 180
        },
        "outputId": "a413e0af-dcbe-4322-effe-5f4a94a1f990"
      },
      "source": [
        "from google.colab import drive\n",
        "drive.mount('/content/gdrive')"
      ],
      "execution_count": null,
      "outputs": [
        {
          "output_type": "error",
          "ename": "ModuleNotFoundError",
          "evalue": "ignored",
          "traceback": [
            "\u001b[1;31m---------------------------------------------------------------------------\u001b[0m",
            "\u001b[1;31mModuleNotFoundError\u001b[0m                       Traceback (most recent call last)",
            "\u001b[1;32m<ipython-input-4-4996ee3d8d09>\u001b[0m in \u001b[0;36m<module>\u001b[1;34m\u001b[0m\n\u001b[1;32m----> 1\u001b[1;33m \u001b[1;32mfrom\u001b[0m \u001b[0mgoogle\u001b[0m\u001b[1;33m.\u001b[0m\u001b[0mcolab\u001b[0m \u001b[1;32mimport\u001b[0m \u001b[0mdrive\u001b[0m\u001b[1;33m\u001b[0m\u001b[1;33m\u001b[0m\u001b[0m\n\u001b[0m\u001b[0;32m      2\u001b[0m \u001b[0mdrive\u001b[0m\u001b[1;33m.\u001b[0m\u001b[0mmount\u001b[0m\u001b[1;33m(\u001b[0m\u001b[1;34m'/content/gdrive'\u001b[0m\u001b[1;33m)\u001b[0m\u001b[1;33m\u001b[0m\u001b[1;33m\u001b[0m\u001b[0m\n",
            "\u001b[1;31mModuleNotFoundError\u001b[0m: No module named 'google.colab'"
          ]
        }
      ]
    },
    {
      "cell_type": "code",
      "metadata": {
        "id": "NLuqmVNk7c2_",
        "colab_type": "code",
        "colab": {}
      },
      "source": [
        "#we will change these\n",
        "\n",
        "base_path = r'C:\\Users\\VivekKuleen\\Downloads\\New Plots\\plots_AI'\n",
        "train_path = os.path.join(base_path, 'train')\n",
        "valid_path = os.path.join(base_path, 'valid')\n",
        "test_path = os.path.join(base_path, 'test')"
      ],
      "execution_count": null,
      "outputs": []
    },
    {
      "cell_type": "code",
      "metadata": {
        "id": "GQwUQWTDSdQW",
        "colab_type": "code",
        "colab": {
          "base_uri": "https://localhost:8080/",
          "height": 153
        },
        "outputId": "8bcd252b-fc00-4600-a186-dd21a728f808"
      },
      "source": [
        "categories = [f.name for f in os.scandir(train_path) if os.path.isdir(f)]\n",
        "categories"
      ],
      "execution_count": null,
      "outputs": [
        {
          "output_type": "execute_result",
          "data": {
            "text/plain": [
              "['Bare Ground',\n",
              " 'Building',\n",
              " 'Bush_or_Scrub',\n",
              " 'Cultivated Vegetation',\n",
              " 'Grass',\n",
              " 'Impervious Surface (No Building)',\n",
              " 'Trees_Canopycover',\n",
              " 'Water']"
            ]
          },
          "metadata": {
            "tags": []
          },
          "execution_count": 20
        }
      ]
    },
    {
      "cell_type": "code",
      "metadata": {
        "id": "ZRgpWq237q3M",
        "colab_type": "code",
        "colab": {
          "base_uri": "https://localhost:8080/",
          "height": 68
        },
        "outputId": "387c537b-c18e-44d8-854a-7b681ae0e584"
      },
      "source": [
        "train_batches = ImageDataGenerator().flow_from_directory(\n",
        "    train_path,\n",
        "    target_size=(128, 128),\n",
        "    classes=categories,\n",
        "    batch_size=20\n",
        ")\n",
        "valid_batches = ImageDataGenerator().flow_from_directory(\n",
        "    valid_path,\n",
        "    target_size=(128, 128),\n",
        "    classes=categories,\n",
        "    batch_size=10\n",
        ")\n",
        "test_batches = ImageDataGenerator().flow_from_directory(\n",
        "    test_path,\n",
        "    target_size=(128, 128),\n",
        "    classes=categories,\n",
        "    batch_size=10\n",
        ")"
      ],
      "execution_count": null,
      "outputs": [
        {
          "output_type": "stream",
          "text": [
            "Found 6661 images belonging to 8 classes.\n",
            "Found 1325 images belonging to 8 classes.\n",
            "Found 0 images belonging to 8 classes.\n"
          ],
          "name": "stdout"
        }
      ]
    },
    {
      "cell_type": "code",
      "metadata": {
        "id": "NVPhAGVs7yvD",
        "colab_type": "code",
        "colab": {}
      },
      "source": [
        "vgg16_model = applications.vgg16.VGG16(include_top=False, input_shape=(128,128,3))"
      ],
      "execution_count": null,
      "outputs": []
    },
    {
      "cell_type": "code",
      "metadata": {
        "id": "Ih9ScNSN73Oj",
        "colab_type": "code",
        "colab": {}
      },
      "source": [
        "model = Sequential()\n",
        "for layer in vgg16_model.layers:\n",
        "    model.add(layer)\n",
        "    if \"pool\" in layer.name:\n",
        "        model.add(BatchNormalization())"
      ],
      "execution_count": null,
      "outputs": []
    },
    {
      "cell_type": "code",
      "metadata": {
        "id": "_aMvNSE08F9K",
        "colab_type": "code",
        "colab": {}
      },
      "source": [
        "NUM_TRAINABLE_LAYERS = len(vgg16_model.layers) - 3\n",
        "for layer in model.layers[:-NUM_TRAINABLE_LAYERS]:\n",
        "    layer.trainable = False"
      ],
      "execution_count": null,
      "outputs": []
    },
    {
      "cell_type": "code",
      "metadata": {
        "id": "ulQ2An4k8JZf",
        "colab_type": "code",
        "colab": {}
      },
      "source": [
        "model.add(Flatten())\n",
        "model.add(Dense(512, activation='relu'))\n",
        "model.add(BatchNormalization())\n",
        "model.add(Dense(512, activation='relu'))\n",
        "model.add(Dense(len(categories), activation='softmax'))"
      ],
      "execution_count": null,
      "outputs": []
    },
    {
      "cell_type": "code",
      "metadata": {
        "id": "t_uE58rD8NKa",
        "colab_type": "code",
        "colab": {}
      },
      "source": [
        "model.compile(Adam(lr=0.001), loss='categorical_crossentropy', metrics=['accuracy'])"
      ],
      "execution_count": null,
      "outputs": []
    },
    {
      "cell_type": "code",
      "metadata": {
        "id": "TG8cgG-UZ348",
        "colab_type": "code",
        "colab": {}
      },
      "source": [
        "model = load_model(r'C:\\Users\\VivekKuleen\\Desktop\\Important\\best_vgg16_model.h5')"
      ],
      "execution_count": null,
      "outputs": []
    },
    {
      "cell_type": "code",
      "metadata": {
        "id": "WYUuTdFXtPmC",
        "colab_type": "code",
        "colab": {}
      },
      "source": [
        "checkpoint = ModelCheckpoint(\n",
        "\n",
        "    r'C:\\Users\\VivekKuleen\\Desktop\\Important\\best_vgg16_model2.h5',\n",
        "    save_best_only=True,\n",
        "    verbose=1\n",
        ")\n",
        "reduce_lr = ReduceLROnPlateau(\n",
        "    factor = 0.25,\n",
        "    patience = 3,\n",
        "    min_delta = 0.001,\n",
        "    verbose = 1\n",
        ")\n",
        "early_stop = EarlyStopping(\n",
        "    min_delta = 0.0005,\n",
        "    patience = 5,\n",
        "    verbose = 1\n",
        ")"
      ],
      "execution_count": null,
      "outputs": []
    },
    {
      "cell_type": "code",
      "metadata": {
        "id": "ICaF6o5F8OPr",
        "colab_type": "code",
        "colab": {
          "base_uri": "https://localhost:8080/",
          "height": 1000
        },
        "outputId": "900c1272-ef5c-45ab-a8cb-7cdee04a9c8c"
      },
      "source": [
        "history = model.fit(\n",
        "    train_batches,\n",
        "    steps_per_epoch=333,\n",
        "    validation_data=valid_batches,\n",
        "    validation_steps=132,\n",
        "    epochs=25,\n",
        "    callbacks = [checkpoint, reduce_lr, early_stop],\n",
        "    verbose=1\n",
        ")\n",
        "#steps_per_epoch=184\n",
        "#validation_steps=73"
      ],
      "execution_count": null,
      "outputs": [
        {
          "output_type": "stream",
          "text": [
            "Epoch 1/25\n",
            "333/333 [==============================] - ETA: 0s - loss: 0.8438 - accuracy: 0.7353\n",
            "Epoch 00001: val_loss improved from inf to 0.53648, saving model to C:\\Users\\VivekKuleen\\Desktop\\Important\\best_vgg16_model2.h5\n",
            "333/333 [==============================] - 698s 2s/step - loss: 0.8438 - accuracy: 0.7353 - val_loss: 0.5365 - val_accuracy: 0.8227\n",
            "Epoch 2/25\n",
            "333/333 [==============================] - ETA: 0s - loss: 0.6142 - accuracy: 0.7851\n",
            "Epoch 00002: val_loss improved from 0.53648 to 0.45838, saving model to C:\\Users\\VivekKuleen\\Desktop\\Important\\best_vgg16_model2.h5\n",
            "333/333 [==============================] - 685s 2s/step - loss: 0.6142 - accuracy: 0.7851 - val_loss: 0.4584 - val_accuracy: 0.8295\n",
            "Epoch 3/25\n",
            "333/333 [==============================] - ETA: 0s - loss: 0.5497 - accuracy: 0.8104\n",
            "Epoch 00003: val_loss did not improve from 0.45838\n",
            "333/333 [==============================] - 678s 2s/step - loss: 0.5497 - accuracy: 0.8104 - val_loss: 0.4813 - val_accuracy: 0.8455\n",
            "Epoch 4/25\n",
            "333/333 [==============================] - ETA: 0s - loss: 0.5127 - accuracy: 0.8163\n",
            "Epoch 00004: val_loss improved from 0.45838 to 0.45229, saving model to C:\\Users\\VivekKuleen\\Desktop\\Important\\best_vgg16_model2.h5\n",
            "333/333 [==============================] - 683s 2s/step - loss: 0.5127 - accuracy: 0.8163 - val_loss: 0.4523 - val_accuracy: 0.8553\n",
            "Epoch 5/25\n",
            "333/333 [==============================] - ETA: 0s - loss: 0.4767 - accuracy: 0.8312\n",
            "Epoch 00005: val_loss improved from 0.45229 to 0.42877, saving model to C:\\Users\\VivekKuleen\\Desktop\\Important\\best_vgg16_model2.h5\n",
            "333/333 [==============================] - 700s 2s/step - loss: 0.4767 - accuracy: 0.8312 - val_loss: 0.4288 - val_accuracy: 0.8545\n",
            "Epoch 6/25\n",
            "333/333 [==============================] - ETA: 0s - loss: 0.4333 - accuracy: 0.8491\n",
            "Epoch 00006: val_loss did not improve from 0.42877\n",
            "333/333 [==============================] - 692s 2s/step - loss: 0.4333 - accuracy: 0.8491 - val_loss: 0.4401 - val_accuracy: 0.8462\n",
            "Epoch 7/25\n",
            "333/333 [==============================] - ETA: 0s - loss: 0.4281 - accuracy: 0.8464\n",
            "Epoch 00007: val_loss improved from 0.42877 to 0.41950, saving model to C:\\Users\\VivekKuleen\\Desktop\\Important\\best_vgg16_model2.h5\n",
            "333/333 [==============================] - 692s 2s/step - loss: 0.4281 - accuracy: 0.8464 - val_loss: 0.4195 - val_accuracy: 0.8629\n",
            "Epoch 8/25\n",
            "333/333 [==============================] - ETA: 0s - loss: 0.4012 - accuracy: 0.8568\n",
            "Epoch 00008: val_loss improved from 0.41950 to 0.40866, saving model to C:\\Users\\VivekKuleen\\Desktop\\Important\\best_vgg16_model2.h5\n",
            "333/333 [==============================] - 673s 2s/step - loss: 0.4012 - accuracy: 0.8568 - val_loss: 0.4087 - val_accuracy: 0.8614\n",
            "Epoch 9/25\n",
            "333/333 [==============================] - ETA: 0s - loss: 0.3864 - accuracy: 0.8645\n",
            "Epoch 00009: val_loss did not improve from 0.40866\n",
            "333/333 [==============================] - 657s 2s/step - loss: 0.3864 - accuracy: 0.8645 - val_loss: 0.4326 - val_accuracy: 0.8545\n",
            "Epoch 10/25\n",
            "333/333 [==============================] - ETA: 0s - loss: 0.3575 - accuracy: 0.8720\n",
            "Epoch 00010: val_loss did not improve from 0.40866\n",
            "333/333 [==============================] - 654s 2s/step - loss: 0.3575 - accuracy: 0.8720 - val_loss: 0.4242 - val_accuracy: 0.8561\n",
            "Epoch 11/25\n",
            "333/333 [==============================] - ETA: 0s - loss: 0.3404 - accuracy: 0.8818\n",
            "Epoch 00011: val_loss did not improve from 0.40866\n",
            "\n",
            "Epoch 00011: ReduceLROnPlateau reducing learning rate to 1.5625000742147677e-05.\n",
            "333/333 [==============================] - 712s 2s/step - loss: 0.3404 - accuracy: 0.8818 - val_loss: 0.4229 - val_accuracy: 0.8568\n",
            "Epoch 12/25\n",
            "333/333 [==============================] - ETA: 0s - loss: 0.2936 - accuracy: 0.8970\n",
            "Epoch 00012: val_loss improved from 0.40866 to 0.39094, saving model to C:\\Users\\VivekKuleen\\Desktop\\Important\\best_vgg16_model2.h5\n",
            "333/333 [==============================] - 713s 2s/step - loss: 0.2936 - accuracy: 0.8970 - val_loss: 0.3909 - val_accuracy: 0.8750\n",
            "Epoch 13/25\n",
            "333/333 [==============================] - ETA: 0s - loss: 0.2896 - accuracy: 0.8961\n",
            "Epoch 00013: val_loss did not improve from 0.39094\n",
            "333/333 [==============================] - 728s 2s/step - loss: 0.2896 - accuracy: 0.8961 - val_loss: 0.3935 - val_accuracy: 0.8720\n",
            "Epoch 14/25\n",
            "333/333 [==============================] - ETA: 0s - loss: 0.2753 - accuracy: 0.9062\n",
            "Epoch 00014: val_loss improved from 0.39094 to 0.38336, saving model to C:\\Users\\VivekKuleen\\Desktop\\Important\\best_vgg16_model2.h5\n",
            "333/333 [==============================] - 742s 2s/step - loss: 0.2753 - accuracy: 0.9062 - val_loss: 0.3834 - val_accuracy: 0.8735\n",
            "Epoch 15/25\n",
            "333/333 [==============================] - ETA: 0s - loss: 0.2691 - accuracy: 0.9053\n",
            "Epoch 00015: val_loss did not improve from 0.38336\n",
            "333/333 [==============================] - 683s 2s/step - loss: 0.2691 - accuracy: 0.9053 - val_loss: 0.3905 - val_accuracy: 0.8705\n",
            "Epoch 16/25\n",
            "333/333 [==============================] - ETA: 0s - loss: 0.2638 - accuracy: 0.9089\n",
            "Epoch 00016: val_loss did not improve from 0.38336\n",
            "333/333 [==============================] - 701s 2s/step - loss: 0.2638 - accuracy: 0.9089 - val_loss: 0.4015 - val_accuracy: 0.8727\n",
            "Epoch 17/25\n",
            "333/333 [==============================] - ETA: 0s - loss: 0.2575 - accuracy: 0.9113\n",
            "Epoch 00017: val_loss did not improve from 0.38336\n",
            "\n",
            "Epoch 00017: ReduceLROnPlateau reducing learning rate to 3.906250185536919e-06.\n",
            "333/333 [==============================] - 687s 2s/step - loss: 0.2575 - accuracy: 0.9113 - val_loss: 0.3844 - val_accuracy: 0.8750\n",
            "Epoch 18/25\n",
            "333/333 [==============================] - ETA: 0s - loss: 0.2491 - accuracy: 0.9109\n",
            "Epoch 00018: val_loss did not improve from 0.38336\n",
            "333/333 [==============================] - 719s 2s/step - loss: 0.2491 - accuracy: 0.9109 - val_loss: 0.3923 - val_accuracy: 0.8758\n",
            "Epoch 19/25\n",
            "333/333 [==============================] - ETA: 0s - loss: 0.2420 - accuracy: 0.9175\n",
            "Epoch 00019: val_loss did not improve from 0.38336\n",
            "333/333 [==============================] - 699s 2s/step - loss: 0.2420 - accuracy: 0.9175 - val_loss: 0.3987 - val_accuracy: 0.8735\n",
            "Epoch 00019: early stopping\n"
          ],
          "name": "stdout"
        }
      ]
    },
    {
      "cell_type": "code",
      "metadata": {
        "id": "XiTW22KiuKI6",
        "colab_type": "code",
        "colab": {}
      },
      "source": [
        "model.save(r'C:\\Users\\VivekKuleen\\Desktop\\Important\\final_vgg16_model2.h5')"
      ],
      "execution_count": null,
      "outputs": []
    },
    {
      "cell_type": "code",
      "metadata": {
        "id": "IrwKUhutwa7K",
        "colab_type": "code",
        "colab": {}
      },
      "source": [
        "import pickle as pkl\n",
        "with open(r'C:\\Users\\VivekKuleen\\Desktop\\Important\\vgg16_history2', 'wb') as hist:\n",
        "    pkl.dump(history.history, hist)"
      ],
      "execution_count": null,
      "outputs": []
    },
    {
      "cell_type": "code",
      "metadata": {
        "id": "hy8GsjtA7qRF",
        "colab_type": "code",
        "colab": {}
      },
      "source": [
        "def plot_history(history):\n",
        "\n",
        "    # Plot training & validation accuracy values\n",
        "    plt.plot(history.history['accuracy'])\n",
        "    plt.plot(history.history['val_accuracy'])\n",
        "    plt.title('Model Accuracy')\n",
        "    plt.ylabel('Accuracy')\n",
        "    plt.xlabel('Epoch')\n",
        "    plt.legend(['Train', 'Valid'], loc='upper left')\n",
        "    plt.show()\n",
        "    \n",
        "    # Plot training & validation loss values\n",
        "    plt.plot(history.history['loss'])\n",
        "    plt.plot(history.history['val_loss'])\n",
        "    plt.title('Model Loss')\n",
        "    plt.ylabel('Loss')\n",
        "    plt.xlabel('Epoch')\n",
        "    plt.legend(['Train', 'Valid'], loc='upper left')\n",
        "    plt.show()"
      ],
      "execution_count": null,
      "outputs": []
    },
    {
      "cell_type": "code",
      "metadata": {
        "id": "SgnC41fp7q-X",
        "colab_type": "code",
        "colab": {
          "base_uri": "https://localhost:8080/",
          "height": 573
        },
        "outputId": "2e3c9059-7ed5-42ea-e6ed-93ff2e95b394"
      },
      "source": [
        "plot_history(history)"
      ],
      "execution_count": null,
      "outputs": [
        {
          "output_type": "display_data",
          "data": {
            "text/plain": [
              "<Figure size 432x288 with 1 Axes>"
            ],
            "image/png": "[encoded data removed]"
          },
          "metadata": {
            "tags": [],
            "needs_background": "light"
          }
        },
        {
          "output_type": "display_data",
          "data": {
            "text/plain": [
              "<Figure size 432x288 with 1 Axes>"
            ],
            "image/png": "[encoded data removed]"
          },
          "metadata": {
            "tags": [],
            "needs_background": "light"
          }
        }
      ]
    },
    {
      "cell_type": "code",
      "metadata": {
        "id": "P25_DI6z8SDe",
        "colab_type": "code",
        "colab": {}
      },
      "source": [
        "predictions = model.predict(test_batches, steps=270, verbose=0)"
      ],
      "execution_count": null,
      "outputs": []
    },
    {
      "cell_type": "code",
      "metadata": {
        "id": "jmjY4jyIFGnT",
        "colab_type": "code",
        "colab": {}
      },
      "source": [
        "def plot_confusion_matrix(cm, classes,\n",
        "                          normalize=False,\n",
        "                          title='Confusion matrix',\n",
        "                          cmap=plt.cm.Blues):\n",
        "    \"\"\"\n",
        "    This function prints and plots the confusion matrix.\n",
        "    Normalization can be applied by setting `normalize=True`.\n",
        "    \"\"\"\n",
        "    plt.figure(figsize=(15, 8))\n",
        "    plt.imshow(cm, interpolation='nearest', cmap=cmap)\n",
        "    plt.title(title)\n",
        "    plt.colorbar()\n",
        "    tick_marks = np.arange(len(classes))\n",
        "    plt.xticks(tick_marks, classes, rotation=90)\n",
        "    plt.yticks(tick_marks, classes\n",
        "              )\n",
        "    if normalize:\n",
        "        print('Normalized confusion matrix')\n",
        "    else:\n",
        "        print('Confusion matrix, without normalization')\n",
        "\n",
        "    print(cm)\n",
        "\n",
        "    thresh = cm.max() / 2.\n",
        "    for i, j in itertools.product(range(cm.shape[0]), range(cm.shape[1])):\n",
        "        plt.text(j, i, cm[i,j],\n",
        "                horizontalalignment=\"center\",\n",
        "                color=\"white\" if cm[i, j] > thresh else \"black\")\n",
        "    \n",
        "    plt.tight_layout()\n",
        "    plt.ylabel(\"True label\")\n",
        "    plt.xlabel(\"Predicted label\")"
      ],
      "execution_count": null,
      "outputs": []
    },
    {
      "cell_type": "code",
      "metadata": {
        "id": "FYORAefzFHpV",
        "colab_type": "code",
        "colab": {}
      },
      "source": [
        "cm = confusion_matrix(test_labels, predictions.argmax(axis=1))\n",
        "plot_confusion_matrix(cm, categories, title='Confusion Matrix')\n"
      ],
      "execution_count": null,
      "outputs": []
    },
    {
      "cell_type": "code",
      "metadata": {
        "id": "UkbFAHYHR8-0",
        "colab_type": "code",
        "colab": {}
      },
      "source": [
        "def test_generator(test_dir, target_size):\n",
        "    for f in os.scandir(test_dir):\n",
        "        if os.path.isfile(f):\n",
        "            im = cv2.imread(f.path)\n",
        "            yield np.expand_dims(cv2.resize(im, target_size), 0)"
      ],
      "execution_count": null,
      "outputs": []
    },
    {
      "cell_type": "code",
      "metadata": {
        "id": "gLKJBwQWR-IX",
        "colab_type": "code",
        "colab": {}
      },
      "source": [
        "import cv2\n",
        "test_batches = test_generator(test_path, (128, 128))"
      ],
      "execution_count": null,
      "outputs": []
    },
    {
      "cell_type": "code",
      "metadata": {
        "id": "f-yFH4tsSPBs",
        "colab_type": "code",
        "colab": {
          "base_uri": "https://localhost:8080/",
          "height": 102
        },
        "outputId": "45bbaf56-5d33-452c-9811-6a2910629e12"
      },
      "source": [
        "!pip install opencv-python"
      ],
      "execution_count": null,
      "outputs": [
        {
          "output_type": "stream",
          "text": [
            "Collecting opencv-python\n",
            "  Downloading opencv_python-4.3.0.36-cp38-cp38-win_amd64.whl (33.4 MB)\n",
            "Requirement already satisfied: numpy>=1.17.3 in c:\\users\\vivekkuleen\\anaconda3\\lib\\site-packages (from opencv-python) (1.18.5)\n",
            "Installing collected packages: opencv-python\n",
            "Successfully installed opencv-python-4.3.0.36\n"
          ],
          "name": "stdout"
        }
      ]
    },
    {
      "cell_type": "code",
      "metadata": {
        "id": "CE_1LrUJR_WA",
        "colab_type": "code",
        "colab": {
          "base_uri": "https://localhost:8080/",
          "height": 34
        },
        "outputId": "0bce5071-e9a2-45c3-a89f-e745c12ea6db"
      },
      "source": [
        "predictions = model.predict(test_batches, verbose=1)"
      ],
      "execution_count": null,
      "outputs": [
        {
          "output_type": "stream",
          "text": [
            "891/891 [==============================] - 40s 45ms/step\n"
          ],
          "name": "stdout"
        }
      ]
    },
    {
      "cell_type": "code",
      "metadata": {
        "id": "o8fwmZSLSCn9",
        "colab_type": "code",
        "colab": {}
      },
      "source": [
        "import pandas as pd\n",
        "\n",
        "csv = pd.read_csv(r'C:\\Users\\VivekKuleen\\Downloads\\New Plots\\plots_AI\\test_csv.csv')\n",
        "cats = csv['category']"
      ],
      "execution_count": null,
      "outputs": []
    },
    {
      "cell_type": "code",
      "metadata": {
        "id": "-EblnNtzSEA1",
        "colab_type": "code",
        "colab": {}
      },
      "source": [
        "from sklearn.metrics import accuracy_score\n",
        "from sklearn.preprocessing import LabelEncoder\n",
        "\n",
        "true = LabelEncoder().fit_transform(cats)"
      ],
      "execution_count": null,
      "outputs": []
    },
    {
      "cell_type": "code",
      "metadata": {
        "id": "3DRROKMLSFhq",
        "colab_type": "code",
        "colab": {
          "base_uri": "https://localhost:8080/",
          "height": 34
        },
        "outputId": "e233dbfc-d5b7-42f9-b6e2-e5b061023759"
      },
      "source": [
        "accuracy_score(true, np.argmax(predictions, -1))"
      ],
      "execution_count": null,
      "outputs": [
        {
          "output_type": "execute_result",
          "data": {
            "text/plain": [
              "0.20202020202020202"
            ]
          },
          "metadata": {
            "tags": []
          },
          "execution_count": 46
        }
      ]
    },
    {
      "cell_type": "code",
      "metadata": {
        "id": "Y7KzHin_Swgu",
        "colab_type": "code",
        "colab": {}
      },
      "source": [
        "from sklearn.metrics import confusion_matrix\n",
        "\n",
        "cm = confusion_matrix(true, np.argmax(predictions, -1))"
      ],
      "execution_count": null,
      "outputs": []
    },
    {
      "cell_type": "code",
      "metadata": {
        "id": "ICnZWHSlzfnS",
        "colab_type": "code",
        "colab": {
          "base_uri": "https://localhost:8080/",
          "height": 752
        },
        "outputId": "8711b6ae-d516-4c26-92b6-da68b80330fb"
      },
      "source": [
        "plot_confusion_matrix(cm, categories, title='Confusion Matrix')"
      ],
      "execution_count": null,
      "outputs": [
        {
          "output_type": "stream",
          "text": [
            "Confusion matrix, without normalization\n",
            "[[ 29   6  14   6   0  46  10   9]\n",
            " [ 29   1  17   0   0   0  11  10]\n",
            " [ 10   2  50  18  10  10  31  15]\n",
            " [  0  11   2   1   6  11   4  15]\n",
            " [  1   6   0   7   1   7   3   5]\n",
            " [  3  13   3  17   7  33  38   9]\n",
            " [ 76   3  23  17   0   1  51  18]\n",
            " [121   0   4  24   0   0   2  14]]\n"
          ],
          "name": "stdout"
        },
        {
          "output_type": "display_data",
          "data": {
            "text/plain": [
              "<Figure size 1080x576 with 2 Axes>"
            ],
            "image/png": "[encoded data removed]"
          },
          "metadata": {
            "tags": [],
            "needs_background": "light"
          }
        }
      ]
    },
    {
      "cell_type": "code",
      "metadata": {
        "id": "3MhF6xfLzhiB",
        "colab_type": "code",
        "colab": {}
      },
      "source": [
        "def plot_confusion_matrix(cm, classes,\n",
        "                          normalize=False,\n",
        "                          title='Confusion matrix',\n",
        "                          cmap=plt.cm.Blues):\n",
        "    \"\"\"\n",
        "    This function prints and plots the confusion matrix.\n",
        "    Normalization can be applied by setting `normalize=True`.\n",
        "    \"\"\"\n",
        "    plt.figure(figsize=(15, 8))\n",
        "    plt.imshow(cm, interpolation='nearest', cmap=cmap)\n",
        "    plt.title(title)\n",
        "    plt.colorbar()\n",
        "    tick_marks = np.arange(len(classes))\n",
        "    plt.xticks(tick_marks, classes, rotation=90)\n",
        "    plt.yticks(tick_marks, classes\n",
        "              )\n",
        "    if normalize:\n",
        "        print('Normalized confusion matrix')\n",
        "    else:\n",
        "        print('Confusion matrix, without normalization')\n",
        "\n",
        "    print(cm)\n",
        "\n",
        "    thresh = cm.max() / 2.\n",
        "    for i, j in itertools.product(range(cm.shape[0]), range(cm.shape[1])):\n",
        "        plt.text(j, i, cm[i,j],\n",
        "                horizontalalignment=\"center\",\n",
        "                color=\"white\" if cm[i, j] > thresh else \"black\")\n",
        "    \n",
        "    plt.tight_layout()\n",
        "    plt.ylabel(\"True label\")\n",
        "    plt.xlabel(\"Predicted label\")"
      ],
      "execution_count": null,
      "outputs": []
    },
    {
      "cell_type": "code",
      "metadata": {
        "id": "GtO5JLxeziq8",
        "colab_type": "code",
        "colab": {}
      },
      "source": [
        ""
      ],
      "execution_count": null,
      "outputs": []
    }
  ]
}