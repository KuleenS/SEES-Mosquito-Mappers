{
  "nbformat": 4,
  "nbformat_minor": 0,
  "metadata": {
    "colab": {
      "name": "AlexNet.ipynb",
      "provenance": [],
      "collapsed_sections": [],
      "include_colab_link": true
    },
    "kernelspec": {
      "name": "python3",
      "display_name": "Python 3"
    },
    "accelerator": "TPU"
  },
  "cells": [
    {
      "cell_type": "markdown",
      "metadata": {
        "id": "view-in-github",
        "colab_type": "text"
      },
      "source": [
        "<a href=\"https://colab.research.google.com/github/cometku/SEESMosquitoMappers/blob/master/AlexNet.ipynb\" target=\"_parent\"><img src=\"https://colab.research.google.com/assets/colab-badge.svg\" alt=\"Open In Colab\"/></a>"
      ]
    },
    {
      "cell_type": "code",
      "metadata": {
        "id": "21VJr4OG4nDR",
        "colab_type": "code",
        "colab": {}
      },
      "source": [
        "import warnings\n",
        "warnings.filterwarnings('ignore')\n",
        "import os\n",
        "import shutil\n",
        "import itertools\n",
        "import random\n",
        "import pandas as pd\n",
        "import numpy as np\n",
        "import matplotlib.pyplot as plt\n",
        "import cv2\n",
        "\n",
        "from tensorflow.keras import backend as K\n",
        "from tensorflow.keras import applications\n",
        "from tensorflow.keras.preprocessing.image import ImageDataGenerator\n",
        "from tensorflow.keras.preprocessing import image\n",
        "from tensorflow.keras.optimizers import Adam\n",
        "from tensorflow.keras.models import Sequential, load_model\n",
        "\n",
        "from tensorflow.keras.callbacks import ModelCheckpoint, ReduceLROnPlateau, EarlyStopping\n",
        "\n",
        "from tensorflow.keras.layers import BatchNormalization, Dense, Flatten, Conv2D, MaxPool2D\n",
        "from sklearn.metrics import confusion_matrix\n",
        "from scipy import misc, ndimage\n",
        "\n",
        "%matplotlib inline"
      ],
      "execution_count": null,
      "outputs": []
    },
    {
      "cell_type": "code",
      "metadata": {
        "id": "Pz6GKaM94uBh",
        "colab_type": "code",
        "colab": {
          "base_uri": "https://localhost:8080/",
          "height": 34
        },
        "outputId": "bdf7b8c0-bcb9-4b23-bca4-f0346c94d8c8"
      },
      "source": [
        "from google.colab import drive\n",
        "drive.mount('/content/gdrive')"
      ],
      "execution_count": null,
      "outputs": [
        {
          "output_type": "stream",
          "text": [
            "Drive already mounted at /content/gdrive; to attempt to forcibly remount, call drive.mount(\"/content/gdrive\", force_remount=True).\n"
          ],
          "name": "stdout"
        }
      ]
    },
    {
      "cell_type": "code",
      "metadata": {
        "id": "NLuqmVNk7c2_",
        "colab_type": "code",
        "colab": {
          "base_uri": "https://localhost:8080/",
          "height": 34
        },
        "outputId": "9528191f-360d-4c5f-d8af-872067438f74"
      },
      "source": [
        "#we will change these\n",
        "base_path = input('What is your path to your folders? ')\n",
        "base_path = os.path.join('/content/gdrive', base_path)\n",
        "train_path = os.path.join(base_path, 'train')\n",
        "valid_path = os.path.join(base_path, 'valid')\n",
        "test_path = os.path.join(base_path, 'testing')"
      ],
      "execution_count": null,
      "outputs": [
        {
          "output_type": "stream",
          "text": [
            "What is your path to your folders? My Drive/plots_AI\n"
          ],
          "name": "stdout"
        }
      ]
    },
    {
      "cell_type": "code",
      "metadata": {
        "id": "GQwUQWTDSdQW",
        "colab_type": "code",
        "colab": {
          "base_uri": "https://localhost:8080/",
          "height": 151
        },
        "outputId": "825a0685-e374-444f-c9a2-c868d6b8db50"
      },
      "source": [
        "categories = [f.name for f in os.scandir(train_path) if os.path.isdir(f)]\n",
        "categories"
      ],
      "execution_count": null,
      "outputs": [
        {
          "output_type": "execute_result",
          "data": {
            "text/plain": [
              "['Water',\n",
              " 'Cultivated Vegetation',\n",
              " 'Impervious Surface (No Building)',\n",
              " 'Trees_Canopycover',\n",
              " 'Grass',\n",
              " 'Bush_or_Scrub',\n",
              " 'Building',\n",
              " 'Bare Ground']"
            ]
          },
          "metadata": {
            "tags": []
          },
          "execution_count": 4
        }
      ]
    },
    {
      "cell_type": "code",
      "metadata": {
        "id": "ZRgpWq237q3M",
        "colab_type": "code",
        "colab": {
          "base_uri": "https://localhost:8080/",
          "height": 50
        },
        "outputId": "26c4030f-2930-4035-bd83-e34fb0dedae7"
      },
      "source": [
        "train_batches = ImageDataGenerator().flow_from_directory(\n",
        "    train_path,\n",
        "    target_size=(128, 128),\n",
        "    classes=categories,\n",
        "    batch_size=20\n",
        ")\n",
        "valid_batches = ImageDataGenerator().flow_from_directory(\n",
        "    valid_path,\n",
        "    target_size=(128, 128),\n",
        "    classes=categories,\n",
        "    batch_size=10\n",
        ")"
      ],
      "execution_count": null,
      "outputs": [
        {
          "output_type": "stream",
          "text": [
            "Found 6661 images belonging to 8 classes.\n",
            "Found 1325 images belonging to 8 classes.\n"
          ],
          "name": "stdout"
        }
      ]
    },
    {
      "cell_type": "code",
      "metadata": {
        "id": "ulQ2An4k8JZf",
        "colab_type": "code",
        "colab": {}
      },
      "source": [
        "# SKIP IF YOU ARE LOADING THE MODEL FROM A FILE\n",
        "def build_model(input_shape, class_count):\n",
        "\n",
        "    model = Sequential()\n",
        "\n",
        "    # layer 1 - \"filters the 224 x 224 x 3 input image with 96 kernels\n",
        "    #           of size 11 x 11 x 3 with a stride of 4 pixels\"\n",
        "    model.add(Conv2D(filters=96,\n",
        "                                  kernel_size=(11, 11),\n",
        "                                  strides=4,\n",
        "                                  input_shape=input_shape,\n",
        "                                  activation=\"selu\",\n",
        "                                  padding=\"same\"))\n",
        "    model.add(BatchNormalization())\n",
        "    model.add(MaxPool2D(pool_size=(3, 3),\n",
        "                                     strides=(2, 2)))\n",
        "\n",
        "    # layer 2 - \"256 kernels of size 5 x 5 x 48\"\n",
        "    model.add(Conv2D(filters=256,\n",
        "                                  kernel_size=(5, 5),\n",
        "                                  activation=\"selu\",\n",
        "                                  padding=\"same\"))\n",
        "    model.add(BatchNormalization())\n",
        "    model.add(MaxPool2D(pool_size=(3, 3),\n",
        "                                     strides=(2, 2)))\n",
        "\n",
        "    # layer 3 - \"384 kernels of size 3 x 3 x 256\"\n",
        "    model.add(Conv2D(filters=384,\n",
        "                                  kernel_size=(3, 3),\n",
        "                                  activation=\"selu\",\n",
        "                                  padding=\"same\"))\n",
        "    # layer 4 - \"384 kernels of size 3 x 3 x 192\"\n",
        "    model.add(Conv2D(filters=384,\n",
        "                                  kernel_size=(3, 3),\n",
        "                                  activation=\"selu\",\n",
        "                                  padding=\"same\"))\n",
        "    # layer 5 - \"256 kernels of size 3 x 3 x 192\"\n",
        "    model.add(Conv2D(filters=256,\n",
        "                                  kernel_size=(3, 3),\n",
        "                                  activation=\"selu\",\n",
        "                                  padding=\"same\"))\n",
        "    model.add(MaxPool2D(pool_size=(3, 3),\n",
        "                                     strides=(2, 2)))\n",
        "\n",
        "    # flatten before feeding into FC layers\n",
        "    model.add(Flatten())\n",
        "\n",
        "    # fully connected layers\n",
        "    # \"The fully-connected layers have 4096 neurons each.\"\n",
        "    # \"We use dropout in the first two fully-connected layers...\"\n",
        "    model.add(Dense(4096))  # layer 6\n",
        "    model.add(BatchNormalization())\n",
        "    model.add(Dense(1024))  # layer 7\n",
        "    model.add(BatchNormalization())\n",
        "    model.add(Dense(units=class_count, activation='softmax'))  # layer 8\n",
        "\n",
        "    return model"
      ],
      "execution_count": null,
      "outputs": []
    },
    {
      "cell_type": "code",
      "metadata": {
        "id": "t_uE58rD8NKa",
        "colab_type": "code",
        "colab": {}
      },
      "source": [
        "model = build_model((128, 128, 3), len(categories))"
      ],
      "execution_count": null,
      "outputs": []
    },
    {
      "cell_type": "code",
      "metadata": {
        "id": "XG0w3q2LXE2h",
        "colab_type": "code",
        "colab": {}
      },
      "source": [
        "# Choose whether to load the best model or the final model\n",
        "# I loaded the best one\n",
        "model = load_model('/content/gdrive/My Drive/AI_CEO/best_alexnet_model2.h5')"
      ],
      "execution_count": null,
      "outputs": []
    },
    {
      "cell_type": "code",
      "metadata": {
        "id": "mWKnpuGJtPZ5",
        "colab_type": "code",
        "colab": {}
      },
      "source": [
        "model.compile(Adam(lr=0.000125), loss='categorical_crossentropy', metrics=['accuracy'])"
      ],
      "execution_count": null,
      "outputs": []
    },
    {
      "cell_type": "code",
      "metadata": {
        "id": "_xe1LR7d8fhB",
        "colab_type": "code",
        "colab": {}
      },
      "source": [
        "checkpoint = ModelCheckpoint(\n",
        "    '/content/gdrive/My Drive/AI_CEO/best_alexnet_model2.h5', # Rename or save in a different directory for the second training iteration\n",
        "    save_best_only=True,\n",
        "    verbose=1\n",
        ")\n",
        "reduce_lr = ReduceLROnPlateau(\n",
        "    factor = 0.25,\n",
        "    patience = 3,\n",
        "    min_delta = 0.001,\n",
        "    verbose = 1\n",
        ")\n",
        "early_stop = EarlyStopping(\n",
        "    min_delta = 0.0005,\n",
        "    patience = 5,\n",
        "    verbose = 1\n",
        ")"
      ],
      "execution_count": null,
      "outputs": []
    },
    {
      "cell_type": "code",
      "metadata": {
        "id": "kQBwZak4Y3Yi",
        "colab_type": "code",
        "colab": {
          "base_uri": "https://localhost:8080/",
          "height": 50
        },
        "outputId": "686ea16f-d45c-43e5-889f-25de2197e07b"
      },
      "source": [
        "# Recalculate training and testing steps\n",
        "train_steps = train_batches.samples // train_batches.batch_size\n",
        "valid_steps = valid_batches.samples // valid_batches.batch_size\n",
        "print(train_steps)\n",
        "print(valid_steps)"
      ],
      "execution_count": null,
      "outputs": [
        {
          "output_type": "stream",
          "text": [
            "333\n",
            "132\n"
          ],
          "name": "stdout"
        }
      ]
    },
    {
      "cell_type": "code",
      "metadata": {
        "id": "ICaF6o5F8OPr",
        "colab_type": "code",
        "colab": {
          "base_uri": "https://localhost:8080/",
          "height": 1000
        },
        "outputId": "0a4a1e97-650c-4555-9d83-c459a8a3d827"
      },
      "source": [
        "history = model.fit(\n",
        "    train_batches,\n",
        "    steps_per_epoch=train_steps,\n",
        "    validation_data=valid_batches,\n",
        "    validation_steps=valid_steps,\n",
        "    epochs=25,\n",
        "    callbacks = [checkpoint, reduce_lr, early_stop],\n",
        "    verbose=1\n",
        ")"
      ],
      "execution_count": null,
      "outputs": [
        {
          "output_type": "stream",
          "text": [
            "Epoch 1/25\n",
            "333/333 [==============================] - ETA: 0s - loss: 0.6331 - accuracy: 0.7791\n",
            "Epoch 00001: val_loss improved from inf to 0.61234, saving model to /content/gdrive/My Drive/AI_CEO/best_alexnet_model2.h5\n",
            "333/333 [==============================] - 421s 1s/step - loss: 0.6331 - accuracy: 0.7791 - val_loss: 0.6123 - val_accuracy: 0.8000 - lr: 1.2500e-04\n",
            "Epoch 2/25\n",
            "333/333 [==============================] - ETA: 0s - loss: 0.6053 - accuracy: 0.7905\n",
            "Epoch 00002: val_loss improved from 0.61234 to 0.56099, saving model to /content/gdrive/My Drive/AI_CEO/best_alexnet_model2.h5\n",
            "333/333 [==============================] - 431s 1s/step - loss: 0.6053 - accuracy: 0.7905 - val_loss: 0.5610 - val_accuracy: 0.7924 - lr: 1.2500e-04\n",
            "Epoch 3/25\n",
            "333/333 [==============================] - ETA: 0s - loss: 0.5838 - accuracy: 0.8015\n",
            "Epoch 00003: val_loss did not improve from 0.56099\n",
            "333/333 [==============================] - 375s 1s/step - loss: 0.5838 - accuracy: 0.8015 - val_loss: 0.5964 - val_accuracy: 0.7871 - lr: 1.2500e-04\n",
            "Epoch 4/25\n",
            "333/333 [==============================] - ETA: 0s - loss: 0.5758 - accuracy: 0.8020\n",
            "Epoch 00004: val_loss improved from 0.56099 to 0.51251, saving model to /content/gdrive/My Drive/AI_CEO/best_alexnet_model2.h5\n",
            "333/333 [==============================] - 434s 1s/step - loss: 0.5758 - accuracy: 0.8020 - val_loss: 0.5125 - val_accuracy: 0.8182 - lr: 1.2500e-04\n",
            "Epoch 5/25\n",
            "333/333 [==============================] - ETA: 0s - loss: 0.5521 - accuracy: 0.8085\n",
            "Epoch 00005: val_loss improved from 0.51251 to 0.48239, saving model to /content/gdrive/My Drive/AI_CEO/best_alexnet_model2.h5\n",
            "333/333 [==============================] - 408s 1s/step - loss: 0.5521 - accuracy: 0.8085 - val_loss: 0.4824 - val_accuracy: 0.8432 - lr: 1.2500e-04\n",
            "Epoch 6/25\n",
            "333/333 [==============================] - ETA: 0s - loss: 0.5302 - accuracy: 0.8157\n",
            "Epoch 00006: val_loss did not improve from 0.48239\n",
            "333/333 [==============================] - 401s 1s/step - loss: 0.5302 - accuracy: 0.8157 - val_loss: 0.6244 - val_accuracy: 0.7689 - lr: 1.2500e-04\n",
            "Epoch 7/25\n",
            "333/333 [==============================] - ETA: 0s - loss: 0.5039 - accuracy: 0.8229\n",
            "Epoch 00007: val_loss did not improve from 0.48239\n",
            "333/333 [==============================] - 448s 1s/step - loss: 0.5039 - accuracy: 0.8229 - val_loss: 0.5048 - val_accuracy: 0.8326 - lr: 1.2500e-04\n",
            "Epoch 8/25\n",
            "333/333 [==============================] - ETA: 0s - loss: 0.4983 - accuracy: 0.8285\n",
            "Epoch 00008: val_loss did not improve from 0.48239\n",
            "\n",
            "Epoch 00008: ReduceLROnPlateau reducing learning rate to 3.125000148429535e-05.\n",
            "333/333 [==============================] - 381s 1s/step - loss: 0.4983 - accuracy: 0.8285 - val_loss: 0.5626 - val_accuracy: 0.8182 - lr: 1.2500e-04\n",
            "Epoch 9/25\n",
            "333/333 [==============================] - ETA: 0s - loss: 0.4186 - accuracy: 0.8502\n",
            "Epoch 00009: val_loss improved from 0.48239 to 0.40921, saving model to /content/gdrive/My Drive/AI_CEO/best_alexnet_model2.h5\n",
            "333/333 [==============================] - 397s 1s/step - loss: 0.4186 - accuracy: 0.8502 - val_loss: 0.4092 - val_accuracy: 0.8659 - lr: 3.1250e-05\n",
            "Epoch 10/25\n",
            "333/333 [==============================] - ETA: 0s - loss: 0.4001 - accuracy: 0.8588\n",
            "Epoch 00010: val_loss did not improve from 0.40921\n",
            "333/333 [==============================] - 433s 1s/step - loss: 0.4001 - accuracy: 0.8588 - val_loss: 0.4242 - val_accuracy: 0.8545 - lr: 3.1250e-05\n",
            "Epoch 11/25\n",
            "333/333 [==============================] - ETA: 0s - loss: 0.3873 - accuracy: 0.8597\n",
            "Epoch 00011: val_loss did not improve from 0.40921\n",
            "333/333 [==============================] - 415s 1s/step - loss: 0.3873 - accuracy: 0.8597 - val_loss: 0.4297 - val_accuracy: 0.8561 - lr: 3.1250e-05\n",
            "Epoch 12/25\n",
            "333/333 [==============================] - ETA: 0s - loss: 0.3895 - accuracy: 0.8625\n",
            "Epoch 00012: val_loss did not improve from 0.40921\n",
            "\n",
            "Epoch 00012: ReduceLROnPlateau reducing learning rate to 7.812500371073838e-06.\n",
            "333/333 [==============================] - 394s 1s/step - loss: 0.3895 - accuracy: 0.8625 - val_loss: 0.4130 - val_accuracy: 0.8553 - lr: 3.1250e-05\n",
            "Epoch 13/25\n",
            "333/333 [==============================] - ETA: 0s - loss: 0.3646 - accuracy: 0.8700\n",
            "Epoch 00013: val_loss improved from 0.40921 to 0.40379, saving model to /content/gdrive/My Drive/AI_CEO/best_alexnet_model2.h5\n",
            "333/333 [==============================] - 389s 1s/step - loss: 0.3646 - accuracy: 0.8700 - val_loss: 0.4038 - val_accuracy: 0.8621 - lr: 7.8125e-06\n",
            "Epoch 14/25\n",
            "333/333 [==============================] - ETA: 0s - loss: 0.3491 - accuracy: 0.8771\n",
            "Epoch 00014: val_loss improved from 0.40379 to 0.40305, saving model to /content/gdrive/My Drive/AI_CEO/best_alexnet_model2.h5\n",
            "333/333 [==============================] - 399s 1s/step - loss: 0.3491 - accuracy: 0.8771 - val_loss: 0.4031 - val_accuracy: 0.8621 - lr: 7.8125e-06\n",
            "Epoch 15/25\n",
            "333/333 [==============================] - ETA: 0s - loss: 0.3593 - accuracy: 0.8713\n",
            "Epoch 00015: val_loss did not improve from 0.40305\n",
            "333/333 [==============================] - 414s 1s/step - loss: 0.3593 - accuracy: 0.8713 - val_loss: 0.4038 - val_accuracy: 0.8621 - lr: 7.8125e-06\n",
            "Epoch 16/25\n",
            "333/333 [==============================] - ETA: 0s - loss: 0.3585 - accuracy: 0.8713\n",
            "Epoch 00016: val_loss improved from 0.40305 to 0.40102, saving model to /content/gdrive/My Drive/AI_CEO/best_alexnet_model2.h5\n",
            "333/333 [==============================] - 389s 1s/step - loss: 0.3585 - accuracy: 0.8713 - val_loss: 0.4010 - val_accuracy: 0.8598 - lr: 7.8125e-06\n",
            "Epoch 17/25\n",
            "333/333 [==============================] - ETA: 0s - loss: 0.3395 - accuracy: 0.8821\n",
            "Epoch 00017: val_loss did not improve from 0.40102\n",
            "333/333 [==============================] - 394s 1s/step - loss: 0.3395 - accuracy: 0.8821 - val_loss: 0.4061 - val_accuracy: 0.8621 - lr: 7.8125e-06\n",
            "Epoch 18/25\n",
            "333/333 [==============================] - ETA: 0s - loss: 0.3518 - accuracy: 0.8737\n",
            "Epoch 00018: val_loss did not improve from 0.40102\n",
            "333/333 [==============================] - 398s 1s/step - loss: 0.3518 - accuracy: 0.8737 - val_loss: 0.4161 - val_accuracy: 0.8583 - lr: 7.8125e-06\n",
            "Epoch 19/25\n",
            "333/333 [==============================] - ETA: 0s - loss: 0.3450 - accuracy: 0.8768\n",
            "Epoch 00019: val_loss did not improve from 0.40102\n",
            "\n",
            "Epoch 00019: ReduceLROnPlateau reducing learning rate to 1.9531250927684596e-06.\n",
            "333/333 [==============================] - 401s 1s/step - loss: 0.3450 - accuracy: 0.8768 - val_loss: 0.4185 - val_accuracy: 0.8545 - lr: 7.8125e-06\n",
            "Epoch 20/25\n",
            "333/333 [==============================] - ETA: 0s - loss: 0.3387 - accuracy: 0.8761\n",
            "Epoch 00020: val_loss did not improve from 0.40102\n",
            "333/333 [==============================] - 402s 1s/step - loss: 0.3387 - accuracy: 0.8761 - val_loss: 0.4016 - val_accuracy: 0.8636 - lr: 1.9531e-06\n",
            "Epoch 21/25\n",
            "333/333 [==============================] - ETA: 0s - loss: 0.3381 - accuracy: 0.8731\n",
            "Epoch 00021: val_loss did not improve from 0.40102\n",
            "333/333 [==============================] - 393s 1s/step - loss: 0.3381 - accuracy: 0.8731 - val_loss: 0.4062 - val_accuracy: 0.8614 - lr: 1.9531e-06\n",
            "Epoch 00021: early stopping\n"
          ],
          "name": "stdout"
        }
      ]
    },
    {
      "cell_type": "code",
      "metadata": {
        "id": "XiTW22KiuKI6",
        "colab_type": "code",
        "colab": {}
      },
      "source": [
        "model.save('/content/gdrive/My Drive/AI_CEO/final_alexnet_model2.h5')"
      ],
      "execution_count": null,
      "outputs": []
    },
    {
      "cell_type": "code",
      "metadata": {
        "id": "IrwKUhutwa7K",
        "colab_type": "code",
        "colab": {}
      },
      "source": [
        "import pickle as pkl\n",
        "with open('/content/gdrive/My Drive/AI_CEO/alexnet_history2', 'wb') as hist:\n",
        "    pkl.dump(history.history, hist)"
      ],
      "execution_count": null,
      "outputs": []
    },
    {
      "cell_type": "code",
      "metadata": {
        "id": "josg1LU0Bv1-",
        "colab_type": "code",
        "colab": {}
      },
      "source": [
        "def plot_history(history):\n",
        "\n",
        "    # Plot training & validation accuracy values\n",
        "    plt.plot(history.history['accuracy'])\n",
        "    plt.plot(history.history['val_accuracy'])\n",
        "    plt.title('Model Accuracy')\n",
        "    plt.ylabel('Accuracy')\n",
        "    plt.xlabel('Epoch')\n",
        "    plt.legend(['Train', 'Valid'], loc='upper left')\n",
        "    plt.show()\n",
        "    \n",
        "    # Plot training & validation loss values\n",
        "    plt.plot(history.history['loss'])\n",
        "    plt.plot(history.history['val_loss'])\n",
        "    plt.title('Model Loss')\n",
        "    plt.ylabel('Loss')\n",
        "    plt.xlabel('Epoch')\n",
        "    plt.legend(['Train', 'Valid'], loc='upper left')\n",
        "    plt.show()"
      ],
      "execution_count": null,
      "outputs": []
    },
    {
      "cell_type": "code",
      "metadata": {
        "id": "WdRNHqyOBxmI",
        "colab_type": "code",
        "colab": {
          "base_uri": "https://localhost:8080/",
          "height": 573
        },
        "outputId": "b1676474-27a6-4c2b-eb86-7ddf1d5d6431"
      },
      "source": [
        "plot_history(history)"
      ],
      "execution_count": null,
      "outputs": [
        {
          "output_type": "display_data",
          "data": {
            "image/png": "[encoded data removed]",
            "text/plain": [
              "<Figure size 432x288 with 1 Axes>"
            ]
          },
          "metadata": {
            "tags": [],
            "needs_background": "light"
          }
        },
        {
          "output_type": "display_data",
          "data": {
            "image/png": "[encoded data removed]",
            "text/plain": [
              "<Figure size 432x288 with 1 Axes>"
            ]
          },
          "metadata": {
            "tags": [],
            "needs_background": "light"
          }
        }
      ]
    },
    {
      "cell_type": "code",
      "metadata": {
        "id": "OGwOY7u5dGOr",
        "colab_type": "code",
        "colab": {
          "base_uri": "https://localhost:8080/",
          "height": 34
        },
        "outputId": "c06e8101-4be9-4a12-9392-39b494645342"
      },
      "source": [
        "# Use this if your test directory contains another folder called test, which itself contains the images:\n",
        "# test_dir/test/images, instead of test_dir/images\n",
        "test_batches = ImageDataGenerator().flow_from_directory(\n",
        "    test_path,\n",
        "    target_size=(128, 128),\n",
        "    classes=['test'],\n",
        "    batch_size=10\n",
        ")"
      ],
      "execution_count": null,
      "outputs": [
        {
          "output_type": "stream",
          "text": [
            "Found 891 images belonging to 1 classes.\n"
          ],
          "name": "stdout"
        }
      ]
    },
    {
      "cell_type": "code",
      "metadata": {
        "id": "yV3RqRfz3s4g",
        "colab_type": "code",
        "colab": {}
      },
      "source": [
        "x_model = load_model('/content/gdrive/My Drive/Copy of best_xception_model2.h5')"
      ],
      "execution_count": null,
      "outputs": []
    },
    {
      "cell_type": "code",
      "metadata": {
        "id": "MvxrNCpHDnUT",
        "colab_type": "code",
        "colab": {}
      },
      "source": [
        "def test_generator(test_dir, target_size):\n",
        "    for f in os.scandir(test_dir):\n",
        "        if os.path.isfile(f):\n",
        "            im = cv2.imread(f.path)\n",
        "            yield np.expand_dims(cv2.resize(im, target_size), 0)"
      ],
      "execution_count": null,
      "outputs": []
    },
    {
      "cell_type": "code",
      "metadata": {
        "id": "IWYvysBFFqaj",
        "colab_type": "code",
        "colab": {}
      },
      "source": [
        "test_batches = test_generator(test_path, (128, 128))"
      ],
      "execution_count": null,
      "outputs": []
    },
    {
      "cell_type": "code",
      "metadata": {
        "id": "P25_DI6z8SDe",
        "colab_type": "code",
        "colab": {
          "base_uri": "https://localhost:8080/",
          "height": 34
        },
        "outputId": "8997e7f0-d28a-40db-ec53-c7d2e58fe7fb"
      },
      "source": [
        "predictions = x_model.predict(test_batches, verbose=1)"
      ],
      "execution_count": null,
      "outputs": [
        {
          "output_type": "stream",
          "text": [
            "891/891 [==============================] - 94s 106ms/step\n"
          ],
          "name": "stdout"
        }
      ]
    },
    {
      "cell_type": "code",
      "metadata": {
        "id": "WJXx-lgMHcpp",
        "colab_type": "code",
        "colab": {}
      },
      "source": [
        "import pandas as pd\n",
        "\n",
        "csv = pd.read_csv('/content/gdrive/My Drive/plots_AI/test_csv.csv')\n",
        "cats = csv['category']"
      ],
      "execution_count": null,
      "outputs": []
    },
    {
      "cell_type": "code",
      "metadata": {
        "id": "7mrjyNXbKT6h",
        "colab_type": "code",
        "colab": {}
      },
      "source": [
        "from sklearn.metrics import accuracy_score\n",
        "from sklearn.preprocessing import LabelEncoder\n",
        "\n",
        "true = LabelEncoder().fit_transform(cats)"
      ],
      "execution_count": null,
      "outputs": []
    },
    {
      "cell_type": "code",
      "metadata": {
        "id": "Jmn6CRduK_Vr",
        "colab_type": "code",
        "colab": {
          "base_uri": "https://localhost:8080/",
          "height": 34
        },
        "outputId": "aff08108-a415-451f-de9e-4511b09d4985"
      },
      "source": [
        "accuracy_score(true, np.argmax(predictions, 1))"
      ],
      "execution_count": null,
      "outputs": [
        {
          "output_type": "execute_result",
          "data": {
            "text/plain": [
              "0.3052749719416386"
            ]
          },
          "metadata": {
            "tags": []
          },
          "execution_count": 84
        }
      ]
    },
    {
      "cell_type": "code",
      "metadata": {
        "id": "KF3C4QVxekUo",
        "colab_type": "code",
        "colab": {}
      },
      "source": [
        "from sklearn.metrics import confusion_matrix\n",
        "\n",
        "cm = confusion_matrix(true, np.argmax(predictions, -1))"
      ],
      "execution_count": null,
      "outputs": []
    },
    {
      "cell_type": "code",
      "metadata": {
        "id": "jmjY4jyIFGnT",
        "colab_type": "code",
        "colab": {}
      },
      "source": [
        "def plot_confusion_matrix(cm, classes,\n",
        "                          normalize=False,\n",
        "                          title='Confusion matrix',\n",
        "                          cmap=plt.cm.Blues):\n",
        "    \"\"\"\n",
        "    This function prints and plots the confusion matrix.\n",
        "    Normalization can be applied by setting `normalize=True`.\n",
        "    \"\"\"\n",
        "    plt.figure(figsize=(15, 8))\n",
        "    plt.imshow(cm, interpolation='nearest', cmap=cmap)\n",
        "    plt.title(title)\n",
        "    plt.colorbar()\n",
        "    tick_marks = np.arange(len(classes))\n",
        "    plt.xticks(tick_marks, classes, rotation=90)\n",
        "    plt.yticks(tick_marks, classes\n",
        "              )\n",
        "    if normalize:\n",
        "        print('Normalized confusion matrix')\n",
        "    else:\n",
        "        print('Confusion matrix, without normalization')\n",
        "\n",
        "    print(cm)\n",
        "\n",
        "    thresh = cm.max() / 2.\n",
        "    for i, j in itertools.product(range(cm.shape[0]), range(cm.shape[1])):\n",
        "        plt.text(j, i, cm[i,j],\n",
        "                horizontalalignment=\"center\",\n",
        "                color=\"white\" if cm[i, j] > thresh else \"black\")\n",
        "    \n",
        "    plt.tight_layout()\n",
        "    plt.ylabel(\"True label\")\n",
        "    plt.xlabel(\"Predicted label\")"
      ],
      "execution_count": null,
      "outputs": []
    },
    {
      "cell_type": "code",
      "metadata": {
        "id": "FYORAefzFHpV",
        "colab_type": "code",
        "colab": {
          "base_uri": "https://localhost:8080/",
          "height": 750
        },
        "outputId": "1fe03de0-edc9-4a25-e6f1-4e6d3d022183"
      },
      "source": [
        "plot_confusion_matrix(cm, categories, title='Confusion Matrix')"
      ],
      "execution_count": null,
      "outputs": [
        {
          "output_type": "stream",
          "text": [
            "Confusion matrix, without normalization\n",
            "[[  2  17  15  25   3  20  19  19]\n",
            " [  6   8  32   1   0  17   3   1]\n",
            " [  5  83   6  11   1   4  36   0]\n",
            " [ 24   1   2   1   7  10   5   0]\n",
            " [  5   0   3   0  13   7   2   0]\n",
            " [  4   2  14   1   5  94   3   0]\n",
            " [  7  15   3  14   0   9 141   0]\n",
            " [ 24   4   0 116   0   6   8   7]]\n"
          ],
          "name": "stdout"
        },
        {
          "output_type": "display_data",
          "data": {
            "image/png": "[encoded data removed]",
            "text/plain": [
              "<Figure size 1080x576 with 2 Axes>"
            ]
          },
          "metadata": {
            "tags": [],
            "needs_background": "light"
          }
        }
      ]
    }
  ]
}