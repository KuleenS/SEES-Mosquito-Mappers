{
  "nbformat": 4,
  "nbformat_minor": 0,
  "metadata": {
    "colab": {
      "name": "InceptionV3.ipynb",
      "provenance": [],
      "collapsed_sections": [],
      "include_colab_link": true
    },
    "kernelspec": {
      "name": "python3",
      "display_name": "Python 3"
    },
    "accelerator": "TPU"
  },
  "cells": [
    {
      "cell_type": "markdown",
      "metadata": {
        "id": "view-in-github",
        "colab_type": "text"
      },
      "source": [
        "<a href=\"https://colab.research.google.com/github/cometku/SEESMosquitoMappers/blob/master/InceptionV3.ipynb\" target=\"_parent\"><img src=\"https://colab.research.google.com/assets/colab-badge.svg\" alt=\"Open In Colab\"/></a>"
      ]
    },
    {
      "cell_type": "code",
      "metadata": {
        "id": "21VJr4OG4nDR",
        "colab_type": "code",
        "colab": {}
      },
      "source": [
        "import warnings\n",
        "warnings.filterwarnings('ignore')\n",
        "import os\n",
        "import shutil\n",
        "import itertools\n",
        "import random\n",
        "import pandas as pd\n",
        "import numpy as np\n",
        "import matplotlib.pyplot as plt\n",
        "\n",
        "from tensorflow.keras import backend as K\n",
        "from tensorflow.keras import applications\n",
        "from tensorflow.keras.preprocessing.image import ImageDataGenerator\n",
        "from tensorflow.keras.preprocessing import image\n",
        "from tensorflow.keras.optimizers import Adam\n",
        "from tensorflow.keras.models import Sequential, Model, load_model\n",
        "\n",
        "from tensorflow.keras.callbacks import ModelCheckpoint, ReduceLROnPlateau, EarlyStopping\n",
        "\n",
        "from tensorflow.keras.layers import BatchNormalization, Dense, Flatten\n",
        "from sklearn.metrics import confusion_matrix\n",
        "from scipy import misc, ndimage\n",
        "\n",
        "%matplotlib inline"
      ],
      "execution_count": null,
      "outputs": []
    },
    {
      "cell_type": "code",
      "metadata": {
        "id": "Pz6GKaM94uBh",
        "colab_type": "code",
        "colab": {
          "base_uri": "https://localhost:8080/",
          "height": 121
        },
        "outputId": "2bd23c21-33f4-4c7c-c9ac-4f83de199933"
      },
      "source": [
        "from google.colab import drive\n",
        "drive.mount('/content/gdrive')"
      ],
      "execution_count": null,
      "outputs": [
        {
          "output_type": "stream",
          "text": [
            "Go to this URL in a browser: https://accounts.google.com/o/oauth2/auth?client_id=947318989803-6bn6qk8qdgf4n4g3pfee6491hc0brc4i.apps.googleusercontent.com&redirect_uri=urn%3aietf%3awg%3aoauth%3a2.0%3aoob&response_type=code&scope=email%20https%3a%2f%2fwww.googleapis.com%2fauth%2fdocs.test%20https%3a%2f%2fwww.googleapis.com%2fauth%2fdrive%20https%3a%2f%2fwww.googleapis.com%2fauth%2fdrive.photos.readonly%20https%3a%2f%2fwww.googleapis.com%2fauth%2fpeopleapi.readonly\n",
            "\n",
            "Enter your authorization code:\n",
            "··········\n",
            "Mounted at /content/gdrive\n"
          ],
          "name": "stdout"
        }
      ]
    },
    {
      "cell_type": "code",
      "metadata": {
        "id": "NLuqmVNk7c2_",
        "colab_type": "code",
        "colab": {
          "base_uri": "https://localhost:8080/",
          "height": 50
        },
        "outputId": "c72b97fc-e86b-4391-e913-21687648ef3e"
      },
      "source": [
        "#we will change these\n",
        "print(os.listdir('/content/gdrive/My Drive/plots_AI(0)'))\n",
        "base_path = input('What is your path to your folders? ')\n",
        "base_path = os.path.join('/content/gdrive', base_path)\n",
        "train_path = os.path.join(base_path, 'train')\n",
        "valid_path = os.path.join(base_path, 'valid')\n",
        "test_path = os.path.join(base_path, 'test')"
      ],
      "execution_count": null,
      "outputs": [
        {
          "output_type": "stream",
          "text": [
            "['test_csv.csv', 'test', 'valid', 'train']\n",
            "What is your path to your folders? My Drive/plots_AI(0)\n"
          ],
          "name": "stdout"
        }
      ]
    },
    {
      "cell_type": "code",
      "metadata": {
        "id": "GQwUQWTDSdQW",
        "colab_type": "code",
        "colab": {
          "base_uri": "https://localhost:8080/",
          "height": 151
        },
        "outputId": "012477dc-dd90-40dc-dbfc-b6e5f05d1524"
      },
      "source": [
        "categories = [f for f in os.listdir(train_path) if os.path.isdir(os.path.join(train_path, f))]\n",
        "categories"
      ],
      "execution_count": null,
      "outputs": [
        {
          "output_type": "execute_result",
          "data": {
            "text/plain": [
              "['Grass',\n",
              " 'Cultivated Vegetation',\n",
              " 'Bush_or_Scrub',\n",
              " 'Building',\n",
              " 'Bare Ground',\n",
              " 'Impervious Surface (No Building)',\n",
              " 'Trees_Canopycover',\n",
              " 'Water']"
            ]
          },
          "metadata": {
            "tags": []
          },
          "execution_count": 40
        }
      ]
    },
    {
      "cell_type": "code",
      "metadata": {
        "id": "ZRgpWq237q3M",
        "colab_type": "code",
        "colab": {
          "base_uri": "https://localhost:8080/",
          "height": 67
        },
        "outputId": "52ef794e-af19-4857-fc96-dfefb115271e"
      },
      "source": [
        "train_batches = ImageDataGenerator().flow_from_directory(\n",
        "    train_path,\n",
        "    target_size=(128, 128),\n",
        "    classes=categories,\n",
        "    batch_size=20\n",
        ")\n",
        "valid_batches = ImageDataGenerator().flow_from_directory(\n",
        "    valid_path,\n",
        "    target_size=(128, 128),\n",
        "    classes=categories,\n",
        "    batch_size=10\n",
        ")\n",
        "test_batches = ImageDataGenerator().flow_from_directory(\n",
        "    test_path,\n",
        "    target_size=(128, 128),\n",
        "    classes=categories,\n",
        "    batch_size=10\n",
        ")"
      ],
      "execution_count": null,
      "outputs": [
        {
          "output_type": "stream",
          "text": [
            "Found 6661 images belonging to 8 classes.\n",
            "Found 1325 images belonging to 8 classes.\n",
            "Found 0 images belonging to 8 classes.\n"
          ],
          "name": "stdout"
        }
      ]
    },
    {
      "cell_type": "code",
      "metadata": {
        "id": "NVPhAGVs7yvD",
        "colab_type": "code",
        "colab": {
          "base_uri": "https://localhost:8080/",
          "height": 50
        },
        "outputId": "9352d584-a259-40b2-9acd-1ca657b1589c"
      },
      "source": [
        "#InceptionV3_prebuilt = applications.InceptionV3(include_top=False, input_shape=(128,128,3))"
      ],
      "execution_count": null,
      "outputs": [
        {
          "output_type": "stream",
          "text": [
            "Downloading data from https://storage.googleapis.com/tensorflow/keras-applications/inception_v3/inception_v3_weights_tf_dim_ordering_tf_kernels_notop.h5\n",
            "87916544/87910968 [==============================] - 1s 0us/step\n"
          ],
          "name": "stdout"
        }
      ]
    },
    {
      "cell_type": "code",
      "metadata": {
        "id": "ulQ2An4k8JZf",
        "colab_type": "code",
        "colab": {}
      },
      "source": [
        "inceptionv3_model = Sequential()\n",
        "\n",
        "inceptionv3_model.add(InceptionV3_prebuilt)\n",
        "inceptionv3_model.add(Flatten())\n",
        "inceptionv3_model.add(Dense(512, activation='relu'))\n",
        "inceptionv3_model.add(BatchNormalization())\n",
        "inceptionv3_model.add(Dense(512, activation='relu'))\n",
        "inceptionv3_model.add(BatchNormalization())\n",
        "inceptionv3_model.add(Dense(len(categories), activation='softmax'))"
      ],
      "execution_count": null,
      "outputs": []
    },
    {
      "cell_type": "code",
      "metadata": {
        "id": "lapxLTNkrRS6",
        "colab_type": "code",
        "colab": {}
      },
      "source": [
        "inceptionv3_model = load_model('/content/gdrive/My Drive/plots_AI/final_InceptionV3_model.h5')"
      ],
      "execution_count": null,
      "outputs": []
    },
    {
      "cell_type": "code",
      "metadata": {
        "id": "t_uE58rD8NKa",
        "colab_type": "code",
        "colab": {}
      },
      "source": [
        "inceptionv3_model.compile(Adam(lr=0.001), loss='categorical_crossentropy', metrics=['accuracy'])"
      ],
      "execution_count": null,
      "outputs": []
    },
    {
      "cell_type": "code",
      "metadata": {
        "id": "Q23h2WrDOp2a",
        "colab_type": "code",
        "colab": {}
      },
      "source": [
        "checkpoint = ModelCheckpoint(\n",
        "\n",
        "    '/content/gdrive/My Drive/plots_AI(0)/best_InceptionV3_model.h5',\n",
        "    save_best_only=True,\n",
        "    verbose=1\n",
        ")\n",
        "reduce_lr = ReduceLROnPlateau(\n",
        "    factor = 0.25,\n",
        "    patience = 3,\n",
        "    min_delta = 0.001,\n",
        "    verbose = 1\n",
        ")\n",
        "early_stop = EarlyStopping(\n",
        "    min_delta = 0.0005,\n",
        "    patience = 5,\n",
        "    verbose = 1\n",
        ")"
      ],
      "execution_count": null,
      "outputs": []
    },
    {
      "cell_type": "code",
      "metadata": {
        "id": "Y3a2t7oVr8Ln",
        "colab_type": "code",
        "colab": {
          "base_uri": "https://localhost:8080/",
          "height": 50
        },
        "outputId": "b78ac8d0-7fd6-4805-9d2f-f4eb73221a60"
      },
      "source": [
        "train_steps = train_batches.samples // train_batches.batch_size\n",
        "valid_steps = valid_batches.samples // valid_batches.batch_size\n",
        "print(train_steps)\n",
        "print(valid_steps)"
      ],
      "execution_count": null,
      "outputs": [
        {
          "output_type": "stream",
          "text": [
            "333\n",
            "132\n"
          ],
          "name": "stdout"
        }
      ]
    },
    {
      "cell_type": "code",
      "metadata": {
        "id": "ICaF6o5F8OPr",
        "colab_type": "code",
        "colab": {
          "base_uri": "https://localhost:8080/",
          "height": 1000
        },
        "outputId": "024bc38d-e0e5-4636-ff32-c6827976a24e"
      },
      "source": [
        "%%time\n",
        "history = inceptionv3_model.fit(\n",
        "    train_batches,\n",
        "    steps_per_epoch=train_steps,\n",
        "    validation_data=valid_batches,\n",
        "    validation_steps=valid_steps,\n",
        "    epochs=25,\n",
        "    callbacks = [checkpoint, reduce_lr, early_stop],\n",
        "    verbose=1\n",
        ")"
      ],
      "execution_count": null,
      "outputs": [
        {
          "output_type": "stream",
          "text": [
            "Epoch 1/25\n",
            "333/333 [==============================] - ETA: 0s - loss: 1.3053 - accuracy: 0.5648\n",
            "Epoch 00001: val_loss improved from inf to 34.69857, saving model to /content/gdrive/My Drive/plots_AI(0)/best_InceptionV3_model.h5\n",
            "333/333 [==============================] - 1615s 5s/step - loss: 1.3053 - accuracy: 0.5648 - val_loss: 34.6986 - val_accuracy: 0.3432 - lr: 0.0010\n",
            "Epoch 2/25\n",
            "333/333 [==============================] - ETA: 0s - loss: 0.9672 - accuracy: 0.6619\n",
            "Epoch 00002: val_loss improved from 34.69857 to 1.73753, saving model to /content/gdrive/My Drive/plots_AI(0)/best_InceptionV3_model.h5\n",
            "333/333 [==============================] - 1192s 4s/step - loss: 0.9672 - accuracy: 0.6619 - val_loss: 1.7375 - val_accuracy: 0.6955 - lr: 0.0010\n",
            "Epoch 3/25\n",
            "333/333 [==============================] - ETA: 0s - loss: 0.9721 - accuracy: 0.6659\n",
            "Epoch 00003: val_loss improved from 1.73753 to 1.66077, saving model to /content/gdrive/My Drive/plots_AI(0)/best_InceptionV3_model.h5\n",
            "333/333 [==============================] - 1202s 4s/step - loss: 0.9721 - accuracy: 0.6659 - val_loss: 1.6608 - val_accuracy: 0.5136 - lr: 0.0010\n",
            "Epoch 4/25\n",
            "333/333 [==============================] - ETA: 0s - loss: 1.0336 - accuracy: 0.6491\n",
            "Epoch 00004: val_loss did not improve from 1.66077\n",
            "333/333 [==============================] - 1195s 4s/step - loss: 1.0336 - accuracy: 0.6491 - val_loss: 149.4095 - val_accuracy: 0.2515 - lr: 0.0010\n",
            "Epoch 5/25\n",
            "333/333 [==============================] - ETA: 0s - loss: 1.0978 - accuracy: 0.6293\n",
            "Epoch 00005: val_loss improved from 1.66077 to 1.23006, saving model to /content/gdrive/My Drive/plots_AI(0)/best_InceptionV3_model.h5\n",
            "333/333 [==============================] - 1176s 4s/step - loss: 1.0978 - accuracy: 0.6293 - val_loss: 1.2301 - val_accuracy: 0.5856 - lr: 0.0010\n",
            "Epoch 6/25\n",
            "333/333 [==============================] - ETA: 0s - loss: 1.0604 - accuracy: 0.6392\n",
            "Epoch 00006: val_loss did not improve from 1.23006\n",
            "333/333 [==============================] - 1167s 4s/step - loss: 1.0604 - accuracy: 0.6392 - val_loss: 1.3046 - val_accuracy: 0.7098 - lr: 0.0010\n",
            "Epoch 7/25\n",
            "333/333 [==============================] - ETA: 0s - loss: 0.9903 - accuracy: 0.6585\n",
            "Epoch 00007: val_loss improved from 1.23006 to 0.99678, saving model to /content/gdrive/My Drive/plots_AI(0)/best_InceptionV3_model.h5\n",
            "333/333 [==============================] - 1159s 3s/step - loss: 0.9903 - accuracy: 0.6585 - val_loss: 0.9968 - val_accuracy: 0.6477 - lr: 0.0010\n",
            "Epoch 8/25\n",
            "333/333 [==============================] - ETA: 0s - loss: 0.9101 - accuracy: 0.6940\n",
            "Epoch 00008: val_loss did not improve from 0.99678\n",
            "333/333 [==============================] - 1162s 3s/step - loss: 0.9101 - accuracy: 0.6940 - val_loss: 1.6155 - val_accuracy: 0.7106 - lr: 0.0010\n",
            "Epoch 9/25\n",
            "333/333 [==============================] - ETA: 0s - loss: 1.0034 - accuracy: 0.6516\n",
            "Epoch 00009: val_loss did not improve from 0.99678\n",
            "333/333 [==============================] - 1184s 4s/step - loss: 1.0034 - accuracy: 0.6516 - val_loss: 6.9405 - val_accuracy: 0.4030 - lr: 0.0010\n",
            "Epoch 10/25\n",
            "333/333 [==============================] - ETA: 0s - loss: 0.9982 - accuracy: 0.6674\n",
            "Epoch 00010: val_loss did not improve from 0.99678\n",
            "\n",
            "Epoch 00010: ReduceLROnPlateau reducing learning rate to 0.0002500000118743628.\n",
            "333/333 [==============================] - 1199s 4s/step - loss: 0.9982 - accuracy: 0.6674 - val_loss: 1.1122 - val_accuracy: 0.6788 - lr: 0.0010\n",
            "Epoch 11/25\n",
            "333/333 [==============================] - ETA: 0s - loss: 0.8031 - accuracy: 0.7216\n",
            "Epoch 00011: val_loss improved from 0.99678 to 0.59506, saving model to /content/gdrive/My Drive/plots_AI(0)/best_InceptionV3_model.h5\n",
            "333/333 [==============================] - 1169s 4s/step - loss: 0.8031 - accuracy: 0.7216 - val_loss: 0.5951 - val_accuracy: 0.7977 - lr: 2.5000e-04\n",
            "Epoch 12/25\n",
            "333/333 [==============================] - ETA: 0s - loss: 0.7760 - accuracy: 0.7284\n",
            "Epoch 00012: val_loss did not improve from 0.59506\n",
            "333/333 [==============================] - 1174s 4s/step - loss: 0.7760 - accuracy: 0.7284 - val_loss: 0.6891 - val_accuracy: 0.7924 - lr: 2.5000e-04\n",
            "Epoch 13/25\n",
            "333/333 [==============================] - ETA: 0s - loss: 0.7536 - accuracy: 0.7238\n",
            "Epoch 00013: val_loss improved from 0.59506 to 0.57653, saving model to /content/gdrive/My Drive/plots_AI(0)/best_InceptionV3_model.h5\n",
            "333/333 [==============================] - 1228s 4s/step - loss: 0.7536 - accuracy: 0.7238 - val_loss: 0.5765 - val_accuracy: 0.8076 - lr: 2.5000e-04\n",
            "Epoch 14/25\n",
            "333/333 [==============================] - ETA: 0s - loss: 0.7296 - accuracy: 0.7419\n",
            "Epoch 00014: val_loss improved from 0.57653 to 0.54982, saving model to /content/gdrive/My Drive/plots_AI(0)/best_InceptionV3_model.h5\n",
            "333/333 [==============================] - 1172s 4s/step - loss: 0.7296 - accuracy: 0.7419 - val_loss: 0.5498 - val_accuracy: 0.8008 - lr: 2.5000e-04\n",
            "Epoch 15/25\n",
            "333/333 [==============================] - ETA: 0s - loss: 0.6977 - accuracy: 0.7502\n",
            "Epoch 00015: val_loss did not improve from 0.54982\n",
            "333/333 [==============================] - 1165s 3s/step - loss: 0.6977 - accuracy: 0.7502 - val_loss: 0.5514 - val_accuracy: 0.8136 - lr: 2.5000e-04\n",
            "Epoch 16/25\n",
            "333/333 [==============================] - ETA: 0s - loss: 0.6734 - accuracy: 0.7595\n",
            "Epoch 00016: val_loss did not improve from 0.54982\n",
            "333/333 [==============================] - 1204s 4s/step - loss: 0.6734 - accuracy: 0.7595 - val_loss: 0.6738 - val_accuracy: 0.8030 - lr: 2.5000e-04\n",
            "Epoch 17/25\n",
            "333/333 [==============================] - ETA: 0s - loss: 0.6635 - accuracy: 0.7658\n",
            "Epoch 00017: val_loss did not improve from 0.54982\n",
            "\n",
            "Epoch 00017: ReduceLROnPlateau reducing learning rate to 6.25000029685907e-05.\n",
            "333/333 [==============================] - 1286s 4s/step - loss: 0.6635 - accuracy: 0.7658 - val_loss: 0.7278 - val_accuracy: 0.7727 - lr: 2.5000e-04\n",
            "Epoch 18/25\n",
            "333/333 [==============================] - ETA: 0s - loss: 0.6374 - accuracy: 0.7690\n",
            "Epoch 00018: val_loss did not improve from 0.54982\n",
            "333/333 [==============================] - 1235s 4s/step - loss: 0.6374 - accuracy: 0.7690 - val_loss: 0.6751 - val_accuracy: 0.7947 - lr: 6.2500e-05\n",
            "Epoch 19/25\n",
            "333/333 [==============================] - ETA: 0s - loss: 0.6143 - accuracy: 0.7794\n",
            "Epoch 00019: val_loss did not improve from 0.54982\n",
            "333/333 [==============================] - 1251s 4s/step - loss: 0.6143 - accuracy: 0.7794 - val_loss: 0.6371 - val_accuracy: 0.8220 - lr: 6.2500e-05\n",
            "Epoch 00019: early stopping\n",
            "CPU times: user 11h 51min 45s, sys: 18min 21s, total: 12h 10min 7s\n",
            "Wall time: 6h 27min\n"
          ],
          "name": "stdout"
        }
      ]
    },
    {
      "cell_type": "code",
      "metadata": {
        "id": "xQWwY48HxrdE",
        "colab_type": "code",
        "colab": {}
      },
      "source": [
        "inceptionv3_model.save('/content/gdrive/My Drive/plots_AI(0)/final_InceptionV3_model.h5')"
      ],
      "execution_count": null,
      "outputs": []
    },
    {
      "cell_type": "code",
      "metadata": {
        "id": "YWHzrvYMxwoG",
        "colab_type": "code",
        "colab": {}
      },
      "source": [
        "import pickle as pkl\n",
        "with open('inceptionv3_history', 'wb') as hist:\n",
        "    pkl.dump(history.history, hist)"
      ],
      "execution_count": null,
      "outputs": []
    },
    {
      "cell_type": "code",
      "metadata": {
        "id": "4qa53lGAl1cY",
        "colab_type": "code",
        "colab": {}
      },
      "source": [
        "def plot_history(history):\n",
        "\n",
        "    # Plot training & validation accuracy values\n",
        "    plt.plot(history.history['accuracy'])\n",
        "    plt.plot(history.history['val_accuracy'])\n",
        "    plt.title('Model Accuracy')\n",
        "    plt.ylabel('Accuracy')\n",
        "    plt.xlabel('Epoch')\n",
        "    plt.legend(['Train', 'Valid'], loc='upper left')\n",
        "    plt.show()\n",
        "    \n",
        "    # Plot training & validation loss values\n",
        "    plt.plot(history.history['loss'])\n",
        "    plt.plot(history.history['val_loss'])\n",
        "    plt.title('Model Loss')\n",
        "    plt.ylabel('Loss')\n",
        "    plt.xlabel('Epoch')\n",
        "    plt.legend(['Train', 'Valid'], loc='upper left')\n",
        "    plt.show()"
      ],
      "execution_count": null,
      "outputs": []
    },
    {
      "cell_type": "code",
      "metadata": {
        "id": "OOsHi50Dl8Mf",
        "colab_type": "code",
        "colab": {
          "base_uri": "https://localhost:8080/",
          "height": 573
        },
        "outputId": "a0ad7d6d-8968-4b01-cae8-dd3c4c42bdfb"
      },
      "source": [
        "plot_history(history)"
      ],
      "execution_count": null,
      "outputs": [
        {
          "output_type": "display_data",
          "data": {
            "image/png": "[encoded data removed]",
            "text/plain": [
              "<Figure size 432x288 with 1 Axes>"
            ]
          },
          "metadata": {
            "tags": [],
            "needs_background": "light"
          }
        },
        {
          "output_type": "display_data",
          "data": {
            "image/png": "[encoded data removed]",
            "text/plain": [
              "<Figure size 432x288 with 1 Axes>"
            ]
          },
          "metadata": {
            "tags": [],
            "needs_background": "light"
          }
        }
      ]
    },
    {
      "cell_type": "code",
      "metadata": {
        "id": "P25_DI6z8SDe",
        "colab_type": "code",
        "colab": {
          "base_uri": "https://localhost:8080/",
          "height": 1000
        },
        "outputId": "04960255-16d4-45f0-c03a-9fba0ca7093f"
      },
      "source": [
        "predictions = inceptionv3_model.predict_generator(test_batches, steps=270, verbose=0)"
      ],
      "execution_count": null,
      "outputs": [
        {
          "output_type": "error",
          "ename": "ValueError",
          "evalue": "ignored",
          "traceback": [
            "\u001b[0;31m---------------------------------------------------------------------------\u001b[0m",
            "\u001b[0;31mValueError\u001b[0m                                Traceback (most recent call last)",
            "\u001b[0;32m<ipython-input-19-eab39f92e1b4>\u001b[0m in \u001b[0;36m<module>\u001b[0;34m()\u001b[0m\n\u001b[0;32m----> 1\u001b[0;31m \u001b[0mpredictions\u001b[0m \u001b[0;34m=\u001b[0m \u001b[0minceptionv3_model\u001b[0m\u001b[0;34m.\u001b[0m\u001b[0mpredict_generator\u001b[0m\u001b[0;34m(\u001b[0m\u001b[0mtest_batches\u001b[0m\u001b[0;34m,\u001b[0m \u001b[0msteps\u001b[0m\u001b[0;34m=\u001b[0m\u001b[0;36m270\u001b[0m\u001b[0;34m,\u001b[0m \u001b[0mverbose\u001b[0m\u001b[0;34m=\u001b[0m\u001b[0;36m0\u001b[0m\u001b[0;34m)\u001b[0m\u001b[0;34m\u001b[0m\u001b[0;34m\u001b[0m\u001b[0m\n\u001b[0m",
            "\u001b[0;32m/usr/local/lib/python3.6/dist-packages/tensorflow/python/util/deprecation.py\u001b[0m in \u001b[0;36mnew_func\u001b[0;34m(*args, **kwargs)\u001b[0m\n\u001b[1;32m    322\u001b[0m               \u001b[0;34m'in a future version'\u001b[0m \u001b[0;32mif\u001b[0m \u001b[0mdate\u001b[0m \u001b[0;32mis\u001b[0m \u001b[0;32mNone\u001b[0m \u001b[0;32melse\u001b[0m \u001b[0;34m(\u001b[0m\u001b[0;34m'after %s'\u001b[0m \u001b[0;34m%\u001b[0m \u001b[0mdate\u001b[0m\u001b[0;34m)\u001b[0m\u001b[0;34m,\u001b[0m\u001b[0;34m\u001b[0m\u001b[0;34m\u001b[0m\u001b[0m\n\u001b[1;32m    323\u001b[0m               instructions)\n\u001b[0;32m--> 324\u001b[0;31m       \u001b[0;32mreturn\u001b[0m \u001b[0mfunc\u001b[0m\u001b[0;34m(\u001b[0m\u001b[0;34m*\u001b[0m\u001b[0margs\u001b[0m\u001b[0;34m,\u001b[0m \u001b[0;34m**\u001b[0m\u001b[0mkwargs\u001b[0m\u001b[0;34m)\u001b[0m\u001b[0;34m\u001b[0m\u001b[0;34m\u001b[0m\u001b[0m\n\u001b[0m\u001b[1;32m    325\u001b[0m     return tf_decorator.make_decorator(\n\u001b[1;32m    326\u001b[0m         \u001b[0mfunc\u001b[0m\u001b[0;34m,\u001b[0m \u001b[0mnew_func\u001b[0m\u001b[0;34m,\u001b[0m \u001b[0;34m'deprecated'\u001b[0m\u001b[0;34m,\u001b[0m\u001b[0;34m\u001b[0m\u001b[0;34m\u001b[0m\u001b[0m\n",
            "\u001b[0;32m/usr/local/lib/python3.6/dist-packages/tensorflow/python/keras/engine/training.py\u001b[0m in \u001b[0;36mpredict_generator\u001b[0;34m(self, generator, steps, callbacks, max_queue_size, workers, use_multiprocessing, verbose)\u001b[0m\n\u001b[1;32m   1531\u001b[0m         \u001b[0muse_multiprocessing\u001b[0m\u001b[0;34m=\u001b[0m\u001b[0muse_multiprocessing\u001b[0m\u001b[0;34m,\u001b[0m\u001b[0;34m\u001b[0m\u001b[0;34m\u001b[0m\u001b[0m\n\u001b[1;32m   1532\u001b[0m         \u001b[0mverbose\u001b[0m\u001b[0;34m=\u001b[0m\u001b[0mverbose\u001b[0m\u001b[0;34m,\u001b[0m\u001b[0;34m\u001b[0m\u001b[0;34m\u001b[0m\u001b[0m\n\u001b[0;32m-> 1533\u001b[0;31m         callbacks=callbacks)\n\u001b[0m\u001b[1;32m   1534\u001b[0m \u001b[0;34m\u001b[0m\u001b[0m\n\u001b[1;32m   1535\u001b[0m   \u001b[0;32mdef\u001b[0m \u001b[0m_check_call_args\u001b[0m\u001b[0;34m(\u001b[0m\u001b[0mself\u001b[0m\u001b[0;34m,\u001b[0m \u001b[0mmethod_name\u001b[0m\u001b[0;34m)\u001b[0m\u001b[0;34m:\u001b[0m\u001b[0;34m\u001b[0m\u001b[0;34m\u001b[0m\u001b[0m\n",
            "\u001b[0;32m/usr/local/lib/python3.6/dist-packages/tensorflow/python/keras/engine/training.py\u001b[0m in \u001b[0;36m_method_wrapper\u001b[0;34m(self, *args, **kwargs)\u001b[0m\n\u001b[1;32m     86\u001b[0m       raise ValueError('{} is not supported in multi-worker mode.'.format(\n\u001b[1;32m     87\u001b[0m           method.__name__))\n\u001b[0;32m---> 88\u001b[0;31m     \u001b[0;32mreturn\u001b[0m \u001b[0mmethod\u001b[0m\u001b[0;34m(\u001b[0m\u001b[0mself\u001b[0m\u001b[0;34m,\u001b[0m \u001b[0;34m*\u001b[0m\u001b[0margs\u001b[0m\u001b[0;34m,\u001b[0m \u001b[0;34m**\u001b[0m\u001b[0mkwargs\u001b[0m\u001b[0;34m)\u001b[0m\u001b[0;34m\u001b[0m\u001b[0;34m\u001b[0m\u001b[0m\n\u001b[0m\u001b[1;32m     89\u001b[0m \u001b[0;34m\u001b[0m\u001b[0m\n\u001b[1;32m     90\u001b[0m   return tf_decorator.make_decorator(\n",
            "\u001b[0;32m/usr/local/lib/python3.6/dist-packages/tensorflow/python/keras/engine/training.py\u001b[0m in \u001b[0;36mpredict\u001b[0;34m(self, x, batch_size, verbose, steps, callbacks, max_queue_size, workers, use_multiprocessing)\u001b[0m\n\u001b[1;32m   1247\u001b[0m           \u001b[0mworkers\u001b[0m\u001b[0;34m=\u001b[0m\u001b[0mworkers\u001b[0m\u001b[0;34m,\u001b[0m\u001b[0;34m\u001b[0m\u001b[0;34m\u001b[0m\u001b[0m\n\u001b[1;32m   1248\u001b[0m           \u001b[0muse_multiprocessing\u001b[0m\u001b[0;34m=\u001b[0m\u001b[0muse_multiprocessing\u001b[0m\u001b[0;34m,\u001b[0m\u001b[0;34m\u001b[0m\u001b[0;34m\u001b[0m\u001b[0m\n\u001b[0;32m-> 1249\u001b[0;31m           model=self)\n\u001b[0m\u001b[1;32m   1250\u001b[0m \u001b[0;34m\u001b[0m\u001b[0m\n\u001b[1;32m   1251\u001b[0m       \u001b[0;31m# Container that configures and calls `tf.keras.Callback`s.\u001b[0m\u001b[0;34m\u001b[0m\u001b[0;34m\u001b[0m\u001b[0;34m\u001b[0m\u001b[0m\n",
            "\u001b[0;32m/usr/local/lib/python3.6/dist-packages/tensorflow/python/keras/engine/data_adapter.py\u001b[0m in \u001b[0;36m__init__\u001b[0;34m(self, x, y, sample_weight, batch_size, steps_per_epoch, initial_epoch, epochs, shuffle, class_weight, max_queue_size, workers, use_multiprocessing, model)\u001b[0m\n\u001b[1;32m   1110\u001b[0m         \u001b[0muse_multiprocessing\u001b[0m\u001b[0;34m=\u001b[0m\u001b[0muse_multiprocessing\u001b[0m\u001b[0;34m,\u001b[0m\u001b[0;34m\u001b[0m\u001b[0;34m\u001b[0m\u001b[0m\n\u001b[1;32m   1111\u001b[0m         \u001b[0mdistribution_strategy\u001b[0m\u001b[0;34m=\u001b[0m\u001b[0mds_context\u001b[0m\u001b[0;34m.\u001b[0m\u001b[0mget_strategy\u001b[0m\u001b[0;34m(\u001b[0m\u001b[0;34m)\u001b[0m\u001b[0;34m,\u001b[0m\u001b[0;34m\u001b[0m\u001b[0;34m\u001b[0m\u001b[0m\n\u001b[0;32m-> 1112\u001b[0;31m         model=model)\n\u001b[0m\u001b[1;32m   1113\u001b[0m \u001b[0;34m\u001b[0m\u001b[0m\n\u001b[1;32m   1114\u001b[0m     \u001b[0mstrategy\u001b[0m \u001b[0;34m=\u001b[0m \u001b[0mds_context\u001b[0m\u001b[0;34m.\u001b[0m\u001b[0mget_strategy\u001b[0m\u001b[0;34m(\u001b[0m\u001b[0;34m)\u001b[0m\u001b[0;34m\u001b[0m\u001b[0;34m\u001b[0m\u001b[0m\n",
            "\u001b[0;32m/usr/local/lib/python3.6/dist-packages/tensorflow/python/keras/engine/data_adapter.py\u001b[0m in \u001b[0;36m__init__\u001b[0;34m(self, x, y, sample_weights, shuffle, workers, use_multiprocessing, max_queue_size, model, **kwargs)\u001b[0m\n\u001b[1;32m    906\u001b[0m         \u001b[0mmax_queue_size\u001b[0m\u001b[0;34m=\u001b[0m\u001b[0mmax_queue_size\u001b[0m\u001b[0;34m,\u001b[0m\u001b[0;34m\u001b[0m\u001b[0;34m\u001b[0m\u001b[0m\n\u001b[1;32m    907\u001b[0m         \u001b[0mmodel\u001b[0m\u001b[0;34m=\u001b[0m\u001b[0mmodel\u001b[0m\u001b[0;34m,\u001b[0m\u001b[0;34m\u001b[0m\u001b[0;34m\u001b[0m\u001b[0m\n\u001b[0;32m--> 908\u001b[0;31m         **kwargs)\n\u001b[0m\u001b[1;32m    909\u001b[0m \u001b[0;34m\u001b[0m\u001b[0m\n\u001b[1;32m    910\u001b[0m   \u001b[0;34m@\u001b[0m\u001b[0mstaticmethod\u001b[0m\u001b[0;34m\u001b[0m\u001b[0;34m\u001b[0m\u001b[0m\n",
            "\u001b[0;32m/usr/local/lib/python3.6/dist-packages/tensorflow/python/keras/engine/data_adapter.py\u001b[0m in \u001b[0;36m__init__\u001b[0;34m(self, x, y, sample_weights, workers, use_multiprocessing, max_queue_size, model, **kwargs)\u001b[0m\n\u001b[1;32m    770\u001b[0m     \u001b[0;31m# Since we have to know the dtype of the python generator when we build the\u001b[0m\u001b[0;34m\u001b[0m\u001b[0;34m\u001b[0m\u001b[0;34m\u001b[0m\u001b[0m\n\u001b[1;32m    771\u001b[0m     \u001b[0;31m# dataset, we have to look at a batch to infer the structure.\u001b[0m\u001b[0;34m\u001b[0m\u001b[0;34m\u001b[0m\u001b[0;34m\u001b[0m\u001b[0m\n\u001b[0;32m--> 772\u001b[0;31m     \u001b[0mpeek\u001b[0m\u001b[0;34m,\u001b[0m \u001b[0mx\u001b[0m \u001b[0;34m=\u001b[0m \u001b[0mself\u001b[0m\u001b[0;34m.\u001b[0m\u001b[0m_peek_and_restore\u001b[0m\u001b[0;34m(\u001b[0m\u001b[0mx\u001b[0m\u001b[0;34m)\u001b[0m\u001b[0;34m\u001b[0m\u001b[0;34m\u001b[0m\u001b[0m\n\u001b[0m\u001b[1;32m    773\u001b[0m     \u001b[0massert_not_namedtuple\u001b[0m\u001b[0;34m(\u001b[0m\u001b[0mpeek\u001b[0m\u001b[0;34m)\u001b[0m\u001b[0;34m\u001b[0m\u001b[0;34m\u001b[0m\u001b[0m\n\u001b[1;32m    774\u001b[0m     \u001b[0mpeek\u001b[0m \u001b[0;34m=\u001b[0m \u001b[0mself\u001b[0m\u001b[0;34m.\u001b[0m\u001b[0m_standardize_batch\u001b[0m\u001b[0;34m(\u001b[0m\u001b[0mpeek\u001b[0m\u001b[0;34m)\u001b[0m\u001b[0;34m\u001b[0m\u001b[0;34m\u001b[0m\u001b[0m\n",
            "\u001b[0;32m/usr/local/lib/python3.6/dist-packages/tensorflow/python/keras/engine/data_adapter.py\u001b[0m in \u001b[0;36m_peek_and_restore\u001b[0;34m(x)\u001b[0m\n\u001b[1;32m    910\u001b[0m   \u001b[0;34m@\u001b[0m\u001b[0mstaticmethod\u001b[0m\u001b[0;34m\u001b[0m\u001b[0;34m\u001b[0m\u001b[0m\n\u001b[1;32m    911\u001b[0m   \u001b[0;32mdef\u001b[0m \u001b[0m_peek_and_restore\u001b[0m\u001b[0;34m(\u001b[0m\u001b[0mx\u001b[0m\u001b[0;34m)\u001b[0m\u001b[0;34m:\u001b[0m\u001b[0;34m\u001b[0m\u001b[0;34m\u001b[0m\u001b[0m\n\u001b[0;32m--> 912\u001b[0;31m     \u001b[0;32mreturn\u001b[0m \u001b[0mx\u001b[0m\u001b[0;34m[\u001b[0m\u001b[0;36m0\u001b[0m\u001b[0;34m]\u001b[0m\u001b[0;34m,\u001b[0m \u001b[0mx\u001b[0m\u001b[0;34m\u001b[0m\u001b[0;34m\u001b[0m\u001b[0m\n\u001b[0m\u001b[1;32m    913\u001b[0m \u001b[0;34m\u001b[0m\u001b[0m\n\u001b[1;32m    914\u001b[0m   def _handle_multiprocessing(self, x, workers, use_multiprocessing,\n",
            "\u001b[0;32m/usr/local/lib/python3.6/dist-packages/keras_preprocessing/image/iterator.py\u001b[0m in \u001b[0;36m__getitem__\u001b[0;34m(self, idx)\u001b[0m\n\u001b[1;32m     55\u001b[0m                              \u001b[0;34m'but the Sequence '\u001b[0m\u001b[0;34m\u001b[0m\u001b[0;34m\u001b[0m\u001b[0m\n\u001b[1;32m     56\u001b[0m                              'has length {length}'.format(idx=idx,\n\u001b[0;32m---> 57\u001b[0;31m                                                           length=len(self)))\n\u001b[0m\u001b[1;32m     58\u001b[0m         \u001b[0;32mif\u001b[0m \u001b[0mself\u001b[0m\u001b[0;34m.\u001b[0m\u001b[0mseed\u001b[0m \u001b[0;32mis\u001b[0m \u001b[0;32mnot\u001b[0m \u001b[0;32mNone\u001b[0m\u001b[0;34m:\u001b[0m\u001b[0;34m\u001b[0m\u001b[0;34m\u001b[0m\u001b[0m\n\u001b[1;32m     59\u001b[0m             \u001b[0mnp\u001b[0m\u001b[0;34m.\u001b[0m\u001b[0mrandom\u001b[0m\u001b[0;34m.\u001b[0m\u001b[0mseed\u001b[0m\u001b[0;34m(\u001b[0m\u001b[0mself\u001b[0m\u001b[0;34m.\u001b[0m\u001b[0mseed\u001b[0m \u001b[0;34m+\u001b[0m \u001b[0mself\u001b[0m\u001b[0;34m.\u001b[0m\u001b[0mtotal_batches_seen\u001b[0m\u001b[0;34m)\u001b[0m\u001b[0;34m\u001b[0m\u001b[0;34m\u001b[0m\u001b[0m\n",
            "\u001b[0;31mValueError\u001b[0m: Asked to retrieve element 0, but the Sequence has length 0"
          ]
        }
      ]
    },
    {
      "cell_type": "code",
      "metadata": {
        "id": "jmjY4jyIFGnT",
        "colab_type": "code",
        "colab": {}
      },
      "source": [
        "def plot_confusion_matrix(cm, classes,\n",
        "                          normalize=False,\n",
        "                          title='Confusion matrix',\n",
        "                          cmap=plt.cm.Blues):\n",
        "    \"\"\"\n",
        "    This function prints and plots the confusion matrix.\n",
        "    Normalization can be applied by setting `normalize=True`.\n",
        "    \"\"\"\n",
        "    plt.figure(figsize=(15, 8))\n",
        "    plt.imshow(cm, interpolation='nearest', cmap=cmap)\n",
        "    plt.title(title)\n",
        "    plt.colorbar()\n",
        "    tick_marks = np.arange(len(classes))\n",
        "    plt.xticks(tick_marks, classes, rotation=90)\n",
        "    plt.yticks(tick_marks, classes\n",
        "              )\n",
        "    if normalize:\n",
        "        print('Normalized confusion matrix')\n",
        "    else:\n",
        "        print('Confusion matrix, without normalization')\n",
        "\n",
        "    print(cm)\n",
        "\n",
        "    thresh = cm.max() / 2.\n",
        "    for i, j in itertools.product(range(cm.shape[0]), range(cm.shape[1])):\n",
        "        plt.text(j, i, cm[i,j],\n",
        "                horizontalalignment=\"center\",\n",
        "                color=\"white\" if cm[i, j] > thresh else \"black\")\n",
        "    \n",
        "    plt.tight_layout()\n",
        "    plt.ylabel(\"True label\")\n",
        "    plt.xlabel(\"Predicted label\")"
      ],
      "execution_count": null,
      "outputs": []
    },
    {
      "cell_type": "code",
      "metadata": {
        "id": "FYORAefzFHpV",
        "colab_type": "code",
        "colab": {
          "base_uri": "https://localhost:8080/",
          "height": 178
        },
        "outputId": "ab6489fe-f961-46e7-9016-d79c0c928d58"
      },
      "source": [
        "cm = confusion_matrix(test_labels, predictions.argmax(axis=1))\n",
        "plot_confusion_matrix(cm, categories, title='Confusion Matrix')"
      ],
      "execution_count": null,
      "outputs": [
        {
          "output_type": "error",
          "ename": "NameError",
          "evalue": "ignored",
          "traceback": [
            "\u001b[0;31m---------------------------------------------------------------------------\u001b[0m",
            "\u001b[0;31mNameError\u001b[0m                                 Traceback (most recent call last)",
            "\u001b[0;32m<ipython-input-21-d048871da40d>\u001b[0m in \u001b[0;36m<module>\u001b[0;34m()\u001b[0m\n\u001b[0;32m----> 1\u001b[0;31m \u001b[0mcm\u001b[0m \u001b[0;34m=\u001b[0m \u001b[0mconfusion_matrix\u001b[0m\u001b[0;34m(\u001b[0m\u001b[0mtest_labels\u001b[0m\u001b[0;34m,\u001b[0m \u001b[0mpredictions\u001b[0m\u001b[0;34m.\u001b[0m\u001b[0margmax\u001b[0m\u001b[0;34m(\u001b[0m\u001b[0maxis\u001b[0m\u001b[0;34m=\u001b[0m\u001b[0;36m1\u001b[0m\u001b[0;34m)\u001b[0m\u001b[0;34m)\u001b[0m\u001b[0;34m\u001b[0m\u001b[0;34m\u001b[0m\u001b[0m\n\u001b[0m\u001b[1;32m      2\u001b[0m \u001b[0mplot_confusion_matrix\u001b[0m\u001b[0;34m(\u001b[0m\u001b[0mcm\u001b[0m\u001b[0;34m,\u001b[0m \u001b[0mcategories\u001b[0m\u001b[0;34m,\u001b[0m \u001b[0mtitle\u001b[0m\u001b[0;34m=\u001b[0m\u001b[0;34m'Confusion Matrix'\u001b[0m\u001b[0;34m)\u001b[0m\u001b[0;34m\u001b[0m\u001b[0;34m\u001b[0m\u001b[0m\n",
            "\u001b[0;31mNameError\u001b[0m: name 'test_labels' is not defined"
          ]
        }
      ]
    }
  ]
}